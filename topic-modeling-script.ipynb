{
 "cells": [
  {
   "cell_type": "code",
   "execution_count": 1,
   "metadata": {
    "scrolled": true
   },
   "outputs": [
    {
     "name": "stderr",
     "output_type": "stream",
     "text": [
      "[nltk_data] Downloading package stopwords to\n",
      "[nltk_data]     /Users/liawany/nltk_data...\n",
      "[nltk_data]   Package stopwords is already up-to-date!\n",
      "[nltk_data] Downloading package averaged_perceptron_tagger to\n",
      "[nltk_data]     /Users/liawany/nltk_data...\n",
      "[nltk_data]   Package averaged_perceptron_tagger is already up-to-\n",
      "[nltk_data]       date!\n",
      "[nltk_data] Downloading package wordnet to /Users/liawany/nltk_data...\n",
      "[nltk_data]   Package wordnet is already up-to-date!\n"
     ]
    }
   ],
   "source": [
    "import warnings\n",
    "warnings.filterwarnings(\"ignore\")\n",
    "\n",
    "import pandas as pd\n",
    "import numpy as np\n",
    "import re\n",
    "\n",
    "from nltk.stem.wordnet import WordNetLemmatizer\n",
    "from nltk.stem.porter import PorterStemmer\n",
    "from nltk.corpus import wordnet\n",
    "from nltk.tag import pos_tag\n",
    "from nltk.corpus import stopwords\n",
    "stop_words = stopwords.words('english')\n",
    "\n",
    "import nltk\n",
    "nltk.download('stopwords')\n",
    "nltk.download('averaged_perceptron_tagger')\n",
    "nltk.download('wordnet')\n",
    "\n",
    "from itertools import groupby\n",
    "\n",
    "from gensim.utils import tokenize\n",
    "from gensim.models.phrases import Phrases, Phraser\n",
    "from gensim.models import TfidfModel\n",
    "from gensim import corpora\n",
    "import gensim\n",
    "from gensim.models import CoherenceModel\n",
    "\n",
    "# spacy for lemmatization\n",
    "import spacy\n",
    "\n",
    "# Set Display setting for columns\n",
    "pd.options.display.max_rows = 300\n",
    "pd.options.display.max_columns = 300\n",
    "pd.options.display.max_colwidth = -1\n",
    "pd.options.display.width = 800\n",
    "pd.options.display.max_seq_items = 2000\n",
    "pd.options.display.float_format = \"{:.2f}\".format\n",
    "\n",
    "# Plotting tools\n",
    "import pyLDAvis\n",
    "import pyLDAvis.gensim  # don't skip this\n",
    "import matplotlib.pyplot as plt\n",
    "%matplotlib inline\n",
    "\n",
    "from pprint import pprint\n",
    "\n",
    "# Enable logging for gensim - optional\n",
    "import logging\n",
    "logging.basicConfig(format='%(asctime)s : %(levelname)s : %(message)s', level=logging.ERROR)"
   ]
  },
  {
   "cell_type": "code",
   "execution_count": 4,
   "metadata": {},
   "outputs": [],
   "source": [
    "input_movies = pd.read_csv('/Users/liawany/Documents/git/NLP_competition/input_movies.csv')"
   ]
  },
  {
   "cell_type": "code",
   "execution_count": 5,
   "metadata": {
    "scrolled": false
   },
   "outputs": [
    {
     "data": {
      "text/plain": [
       "(6503, 2)"
      ]
     },
     "execution_count": 5,
     "metadata": {},
     "output_type": "execute_result"
    }
   ],
   "source": [
    "input_movies.shape"
   ]
  },
  {
   "cell_type": "code",
   "execution_count": 79,
   "metadata": {
    "scrolled": true
   },
   "outputs": [
    {
     "data": {
      "text/html": [
       "<div>\n",
       "<style scoped>\n",
       "    .dataframe tbody tr th:only-of-type {\n",
       "        vertical-align: middle;\n",
       "    }\n",
       "\n",
       "    .dataframe tbody tr th {\n",
       "        vertical-align: top;\n",
       "    }\n",
       "\n",
       "    .dataframe thead th {\n",
       "        text-align: right;\n",
       "    }\n",
       "</style>\n",
       "<table border=\"1\" class=\"dataframe\">\n",
       "  <thead>\n",
       "    <tr style=\"text-align: right;\">\n",
       "      <th></th>\n",
       "      <th>ids</th>\n",
       "      <th>abstract</th>\n",
       "    </tr>\n",
       "  </thead>\n",
       "  <tbody>\n",
       "    <tr>\n",
       "      <th>6500</th>\n",
       "      <td>doc_6500</td>\n",
       "      <td>Venu (Venu Thottempudi) is a receptionist at a lowly beachside hotel in Vizag. He has a beautiful neighbor Nirmala (Ashima Bhalla). Her father's (Mouli) financial status is in bad shape and Venu helps them monetarily and morally. In the process Nirmala falls in love with Venu and Nirmala's family approves their relationship. Later on a well-off guy, Ramji, starts helping Nirmala and family out with luxurious items and better living conditions. Nirmala's father falling for this windfall, forces Nirmala to accept Ramji's marriage proposal by dumping Venu.\\r\\nLater, Venu meets another girl Radha (Abhirami) who starts having feelings for him and she also monetarily helps him out. Venu is also aware of this. By then, Nirmala gets cheated and dumped by Ramji. Venu inspires her again to achieve her goals and sells off all his property to pay as a donation in a private college for her medical seat. When Nirmala becomes a doctor, she proposes to Venu. The climax of the film is that Venu rejects Nirmala and chooses Radha as his life partner, as Radha's Love had purity, which lacked in Nirmala's Love in the Past.</td>\n",
       "    </tr>\n",
       "    <tr>\n",
       "      <th>6501</th>\n",
       "      <td>doc_6501</td>\n",
       "      <td>After finding out her father and his estate is in danger, Princess Emanuella saves his life by marrying Duke Cathos de Alvia, a grotesque hunchback. She actually is in love with Leonardo, his attractive younger brother. They already had an affair before the marriage, but continue secretly meeting each other. In the end, Cathos finds out about his wife's unfaithfulness and stabs both his wife and brother to death.[1]</td>\n",
       "    </tr>\n",
       "    <tr>\n",
       "      <th>6502</th>\n",
       "      <td>doc_6502</td>\n",
       "      <td>Pilgrimage to Shiv-sagar is a pious dream for almost the entire country. People from all over India make this pilgrimage. On one such voyage, a steamer was carrying diverse people, people from all walks of life...with various motives and desires, as if they were a cross- section of our whole people. A writer was making the trip to gather materials for his novel. A Sadhuji Maharaj was escorting widows of his ashram to the Holy Confluence. A rich businessman was traveling with his wife and young son. The son had recovered from a mortal disease, and the parents had gratefully promised to offer the Lord of Shiv - sagar their most precious belonging they were carrying with them a very valuable diamond for this offering. There was a dancing girl Roopa, an accomplished beautiful dancer whom her foster mother was taking to the Shiv-sagar to perform her inaugural dance, before entering the career of a dancing girl. When young, she had an attack of polio and her foster mother had vowed that if the girl recovered completely and learned dancing, her inaugural dance would be performed before Lord Shiva of Shiv-sagar. Surrounded by his yes-men a pleasure seeking Zamindar was carrying a cask of wine to throw it in the sea at Shiv-sagar. His wife had died tormented by his infatuation for liquor and by her dead body he had promised an atonement...his decision to throw the chief culprit, the cask of wine, into the sea. To complete the picture of diversity, there were two robbers following the merchant for the diamond. One was the lame informer, who according to their arrangement used to gather information and pass it on to Chhagan, a reckless, faithless, master of his trade. They used to share the booty. But on this particular, mission Chhagan refused, saying that whoever grabs the diamond shall have it...thus they turn into rivals. Faith and superstition, love and hate. jealousy and cowardice, compassion and godliness traveled on board the steamer...affecting, reforming and transforming each other with each splash of wave on the drama of this pilgrimage.</td>\n",
       "    </tr>\n",
       "  </tbody>\n",
       "</table>\n",
       "</div>"
      ],
      "text/plain": [
       "           ids  \\\n",
       "6500  doc_6500   \n",
       "6501  doc_6501   \n",
       "6502  doc_6502   \n",
       "\n",
       "                                                                                                                                                                                                                                                                                                                                                                                                                                                                                                                                                                                                                                                                                                                                                                                                                                                                                                                                                                                                                                                                                                                                                                                                                                                                                                                                                                                                                                                                                                                                                                                                                                                                                                                                                                                                                                                                                                                                                                                                                                                                                                                                                       abstract  \n",
       "6500  Venu (Venu Thottempudi) is a receptionist at a lowly beachside hotel in Vizag. He has a beautiful neighbor Nirmala (Ashima Bhalla). Her father's (Mouli) financial status is in bad shape and Venu helps them monetarily and morally. In the process Nirmala falls in love with Venu and Nirmala's family approves their relationship. Later on a well-off guy, Ramji, starts helping Nirmala and family out with luxurious items and better living conditions. Nirmala's father falling for this windfall, forces Nirmala to accept Ramji's marriage proposal by dumping Venu.\\r\\nLater, Venu meets another girl Radha (Abhirami) who starts having feelings for him and she also monetarily helps him out. Venu is also aware of this. By then, Nirmala gets cheated and dumped by Ramji. Venu inspires her again to achieve her goals and sells off all his property to pay as a donation in a private college for her medical seat. When Nirmala becomes a doctor, she proposes to Venu. The climax of the film is that Venu rejects Nirmala and chooses Radha as his life partner, as Radha's Love had purity, which lacked in Nirmala's Love in the Past.                                                                                                                                                                                                                                                                                                                                                                                                                                                                                                                                                                                                                                                                                                                                                                                                                                                                                                                                                                                            \n",
       "6501  After finding out her father and his estate is in danger, Princess Emanuella saves his life by marrying Duke Cathos de Alvia, a grotesque hunchback. She actually is in love with Leonardo, his attractive younger brother. They already had an affair before the marriage, but continue secretly meeting each other. In the end, Cathos finds out about his wife's unfaithfulness and stabs both his wife and brother to death.[1]                                                                                                                                                                                                                                                                                                                                                                                                                                                                                                                                                                                                                                                                                                                                                                                                                                                                                                                                                                                                                                                                                                                                                                                                                                                                                                                                                                                                                                                                                                                                                                                                                                                                                                                        \n",
       "6502  Pilgrimage to Shiv-sagar is a pious dream for almost the entire country. People from all over India make this pilgrimage. On one such voyage, a steamer was carrying diverse people, people from all walks of life...with various motives and desires, as if they were a cross- section of our whole people. A writer was making the trip to gather materials for his novel. A Sadhuji Maharaj was escorting widows of his ashram to the Holy Confluence. A rich businessman was traveling with his wife and young son. The son had recovered from a mortal disease, and the parents had gratefully promised to offer the Lord of Shiv - sagar their most precious belonging they were carrying with them a very valuable diamond for this offering. There was a dancing girl Roopa, an accomplished beautiful dancer whom her foster mother was taking to the Shiv-sagar to perform her inaugural dance, before entering the career of a dancing girl. When young, she had an attack of polio and her foster mother had vowed that if the girl recovered completely and learned dancing, her inaugural dance would be performed before Lord Shiva of Shiv-sagar. Surrounded by his yes-men a pleasure seeking Zamindar was carrying a cask of wine to throw it in the sea at Shiv-sagar. His wife had died tormented by his infatuation for liquor and by her dead body he had promised an atonement...his decision to throw the chief culprit, the cask of wine, into the sea. To complete the picture of diversity, there were two robbers following the merchant for the diamond. One was the lame informer, who according to their arrangement used to gather information and pass it on to Chhagan, a reckless, faithless, master of his trade. They used to share the booty. But on this particular, mission Chhagan refused, saying that whoever grabs the diamond shall have it...thus they turn into rivals. Faith and superstition, love and hate. jealousy and cowardice, compassion and godliness traveled on board the steamer...affecting, reforming and transforming each other with each splash of wave on the drama of this pilgrimage.  "
      ]
     },
     "execution_count": 79,
     "metadata": {},
     "output_type": "execute_result"
    }
   ],
   "source": [
    "input_movies.tail(3)"
   ]
  },
  {
   "cell_type": "code",
   "execution_count": 8,
   "metadata": {},
   "outputs": [
    {
     "name": "stdout",
     "output_type": "stream",
     "text": [
      "['sergeant', 'nico', 'toscani', 'a', 'native', 'of', 'palermo', 'is', 'a', 'detective', 'in', 'the', 'chicago', 'police', 'department', 's', 'vice', 'squad', 'at', 'an', 'early_age', 'he', 'became', 'interested', 'in', 'martial_arts', 'and', 'moved', 'to', 'japan', 'to', 'study', 'in', 'nico', 'was', 'recruited', 'into', 'the', 'cia', 'by', 'special_agent', 'nelson', 'fox', 'and', 'was', 'involved', 'in', 'covert', 'operations', 'on', 'the', 'vietnamese', 'cambodian', 'border', 'during', 'the', 'vietnam_war', 'there', 'he', 'became', 'disgusted', 'with', 'station', 'chief', 'kurt', 'zagon', 'who', 'tortured', 'prisoners', 'a', 'stand', 'off', 'occurred', 'when', 'nico', 'tried', 'to', 'stop', 'a', 'torture', 'session', 'and', 'he', 'left', 'the', 'cia', 'nico', 'returned', 'to', 'chicago', 'joined', 'the', 'cpd', 'and', 'got', 'married', 'nico', 'and', 'his', 'new', 'partner', 'detective', 'delores', 'jacks', 'jackson', 'are', 'now', 'investigating', 'a', 'drug', 'ring', 'and', 'after', 'busting', 'two', 'of', 'the', 'dealers', 'including', 'salvadorian', 'drug_dealer', 'tony', 'salvano', 'nico', 'finds', 'c', 'explosives', 'shortly_afterward', 'the', 'men', 'that', 'nico', 'and', 'jacks', 'arrested', 'are', 'released', 'at', 'the', 'request', 'of', 'federal', 'officials', 'and', 'nico', 'is', 'asked', 'to', 'stand', 'down', 'later', 'the', 'priest', 'of', 'nico', 's', 'parish', 'is', 'killed', 'in', 'an', 'explosion', 'during', 'mass', 'fox', 'calls', 'nico', 'and', 'tells', 'him', 'to', 'move', 'his', 'family', 'to', 'a', 'safer', 'location', 'saying', 'that', 'nico', 'is', 'in', 'danger', 'under_pressure', 'from', 'the', 'feds', 'nico', 'is', 'asked', 'to', 'turn', 'in', 'his', 'badge', 'nico', 'eventually', 'finds', 'that', 'the', 'dealers', 'he', 'busted', 'are', 'linked', 'to', 'zagon', 'who', 'is', 'still', 'with', 'the', 'cia', 'and', 'who', 'is', 'accused', 'of', 'human_rights', 'violations', 'by', 'a', 'central', 'american', 'priest', 'who', 'was', 'being', 'sheltered', 'by', 'nico', 's', 'priest', 'while', 'zagon', 'is', 'torturing', 'the', 'priest', 'nico', 'bursts', 'in', 'and', 'a', 'gun', 'battle_ensues', 'detective', 'lukich', 'and', 'jacks', 'are', 'wounded', 'during', 'the', 'shoot', 'out', 'and', 'nico', 'has', 'to', 'flee', 'senator', 'ernest', 'harrison', 'is', 'investigating', 'zagon', 's', 'group', 'to', 'reveal', 'their', 'covert', 'operations', 'and', 'drug_dealing', 'when', 'nico', 'finds', 'out', 'that', 'zagon', 'killed', 'the', 'priest', 'and', 'is', 'planning', 'to', 'kill', 'harrison', 'he', 'goes', 'after', 'zagon', 'nico', 'confronts', 'fox', 'but', 'they', 'are', 'interrupted', 'by', 'zagon', 's', 'men', 'fox', 'is', 'killed', 'and', 'nico', 'is', 'captured', 'nico', 'is', 'held', 'in', 'the', 'kitchen', 'of', 'a', 'hotel', 'during', 'a', 'harrison', 'campaign', 'rally', 'before', 'zagon', 'can', 'kill', 'harrison', 'nico', 'breaks', 'free', 'and', 'kills', 'zagon', 'and', 'all', 'of', 'his', 'remaining', 'men', 'after', 'nico', 'meets', 'sen', 'harrison', 'who', 'has', 'been', 'informed', 'of', 'everything', 'harrison', 'promises', 'justice', 'for', 'what', 'they', 'did', 'and', 'nico', 'says', 'he', 'is', 'now', 'willing', 'to', 'testify', 'on', 'his', 'experiences', 'with', 'zagon', 'and', 'covert', 'operations', 'in', 'the', 'cia']\n",
      "[['become', 'interested', 'move', 'recruit', 'involve', 'covert', 'operation', 'cambodian', 'border', 'become', 'disgusted', 'station', 'chief', 'torture', 'prisoner', 'stand', 'occur', 'try', 'stop', 'torture', 'session', 'leave', 'return', 'join', 'get', 'marry', 'nico', 'new', 'partner', 'delore', 'investigate', 'drug', 'ring', 'bust', 'dealer', 'include', 'find', 'explosive', 'man', 'jack', 'arrest', 'release', 'request', 'federal', 'official', 'ask', 'later', 'priest', 'parish', 'kill', 'tell', 'move', 'family', 'safe', 'say', 'pressure', 'fed', 'ask', 'eventually', 'find', 'dealer', 'bust', 'link', 'still', 'accuse', 'violation', 'central', 'american', 'priest', 'shelter', 'priest', 'torture', 'priest', 'burst', 'gun', 'ensue', 'jack', 'wound', 'investigate', 'group', 'reveal', 'covert', 'operation', 'find', 'kill', 'priest', 'planning', 'kill', 'go', 'confront', 'interrupt', 'man', 'kill', 'capture', 'hold', 'kill', 'break', 'remain', 'man', 'meet', 'inform', 'promise', 'say', 'willing', 'experience', 'covert', 'operation']]\n"
     ]
    }
   ],
   "source": [
    "# Define functions for stopwords, bigrams, trigrams and lemmatization\n",
    "def tokenize_text(text):\n",
    "    return [list(tokenize(doc,lower=True)) for doc in text] #\n",
    "\n",
    "def remove_stopwords(texts):\n",
    "    return [[word for word in doc if word not in stop_words] for doc in texts]\n",
    "\n",
    "def make_bigrams(texts):\n",
    "    return [bigram_mod[doc] for doc in texts]\n",
    "\n",
    "def make_trigrams(texts):\n",
    "    return [trigram_mod[bigram_mod[doc]] for doc in texts]\n",
    "\n",
    "def lemmatization(texts, allowed_postags=['NOUN', 'ADJ', 'VERB', 'ADV']):\n",
    "    \"\"\"https://spacy.io/api/annotation\"\"\"\n",
    "    texts_out = []\n",
    "    for sent in texts:\n",
    "        doc = nlp(\" \".join(sent)) \n",
    "        texts_out.append([token.lemma_ for token in doc if token.pos_ in allowed_postags])\n",
    "    return texts_out\n",
    "\n",
    "#tokenize text\n",
    "tokenized_text = tokenize_text(input_movies['abstract'])\n",
    "\n",
    "# Remove Stop Words\n",
    "data_words_nostops = remove_stopwords(tokenized_text)\n",
    "\n",
    "#add grams\n",
    "bigram = gensim.models.Phrases(tokenized_text, min_count=5, threshold=100) # higher threshold fewer phrases.\n",
    "\n",
    "# Faster way to get a sentence clubbed as a trigram/bigram\n",
    "bigram_mod = gensim.models.phrases.Phraser(bigram)\n",
    "\n",
    "# See trigram example\n",
    "print(trigram_mod[bigram_mod[tokenized_text[0]]])\n",
    "\n",
    "# Form Bigrams\n",
    "data_words_bigrams = make_bigrams(data_words_nostops)\n",
    "\n",
    "# Initialize spacy 'en' model, keeping only tagger component (for efficiency)\n",
    "# python3 -m spacy download en\n",
    "nlp = spacy.load('en', disable=['parser', 'ner'])\n",
    "\n",
    "# Do lemmatization keeping only noun, adj, vb, adv\n",
    "data_lemmatized = lemmatization(data_words_bigrams, allowed_postags=['NOUN', 'ADJ', 'VERB', 'ADV'])\n",
    "\n",
    "print(data_lemmatized[:1])"
   ]
  },
  {
   "cell_type": "code",
   "execution_count": 12,
   "metadata": {},
   "outputs": [
    {
     "name": "stdout",
     "output_type": "stream",
     "text": [
      "[[('accuse', 1), ('american', 1), ('arrest', 1), ('ask', 2), ('become', 2), ('border', 1), ('break', 1), ('burst', 1), ('bust', 2), ('cambodian', 1), ('capture', 1), ('central', 1), ('chief', 1), ('confront', 1), ('covert', 3), ('dealer', 2), ('delore', 1), ('disgusted', 1), ('drug', 1), ('ensue', 1), ('eventually', 1), ('experience', 1), ('explosive', 1), ('family', 1), ('fed', 1), ('federal', 1), ('find', 3), ('get', 1), ('go', 1), ('group', 1), ('gun', 1), ('hold', 1), ('include', 1), ('inform', 1), ('interested', 1), ('interrupt', 1), ('investigate', 2), ('involve', 1), ('jack', 2), ('join', 1), ('kill', 5), ('later', 1), ('leave', 1), ('link', 1), ('man', 3), ('marry', 1), ('meet', 1), ('move', 2), ('new', 1), ('nico', 1), ('occur', 1), ('official', 1), ('operation', 3), ('parish', 1), ('partner', 1), ('planning', 1), ('pressure', 1), ('priest', 5), ('prisoner', 1), ('promise', 1), ('recruit', 1), ('release', 1), ('remain', 1), ('request', 1), ('return', 1), ('reveal', 1), ('ring', 1), ('safe', 1), ('say', 2), ('session', 1), ('shelter', 1), ('stand', 1), ('station', 1), ('still', 1), ('stop', 1), ('tell', 1), ('torture', 3), ('try', 1), ('violation', 1), ('willing', 1), ('wound', 1)]]\n"
     ]
    }
   ],
   "source": [
    "# Create Dictionary\n",
    "id2word = corpora.Dictionary(data_lemmatized)\n",
    "\n",
    "# Create Corpus\n",
    "texts = data_lemmatized\n",
    "\n",
    "# Term Document Frequency\n",
    "corpus = [id2word.doc2bow(text) for text in texts]\n",
    "\n",
    "# View\n",
    "#print(corpus[:1])\n",
    "# Human readable format of corpus (term-frequency)\n",
    "print([[(id2word[id], freq) for id, freq in cp] for cp in corpus[:1]])"
   ]
  },
  {
   "cell_type": "markdown",
   "metadata": {},
   "source": [
    "### Gensim LDA model"
   ]
  },
  {
   "cell_type": "code",
   "execution_count": 25,
   "metadata": {
    "scrolled": true
   },
   "outputs": [],
   "source": [
    "from gensim.models.callbacks import CoherenceMetric, DiffMetric, PerplexityMetric, ConvergenceMetric\n",
    "import logging\n",
    "logging.basicConfig(level=logging.INFO)\n",
    "logger = logging.getLogger(__name__)\n",
    "logger.setLevel(logging.DEBUG)\n",
    "\n",
    "call_backs = ['perplexity', 'coherence', 'topic_diff', 'convergence']\n",
    "lda = train_gensim_LDA(corpus, dictionary=id2word, num_topics=5, num_passes=10, multicore=False, \n",
    "                                   call_backs=call_backs, call_logger='visdom')"
   ]
  },
  {
   "cell_type": "code",
   "execution_count": 26,
   "metadata": {},
   "outputs": [],
   "source": [
    "def train_gensim_LDA(corpus, dictionary, num_topics=10, num_passes=10,\n",
    "                         num_iterations=50, alpha='auto', eta='auto',\n",
    "                         chunksize=2000, multicore=True, num_cores=2,\n",
    "                         call_backs=[], call_logger='shell'):\n",
    "        if multicore:\n",
    "            lda = gensim.models.ldamulticore.LdaMulticore\n",
    "            if alpha == 'auto':\n",
    "                alpha = 'symmetric'\n",
    "            lda_model = lda(corpus=corpus,\n",
    "                            id2word=dictionary,\n",
    "                            num_topics=num_topics,\n",
    "                            passes=num_passes,\n",
    "                            iterations=num_iterations,\n",
    "                            alpha=alpha,\n",
    "                            eta=eta,\n",
    "                            chunksize=chunksize,\n",
    "                            workers=num_cores)\n",
    "        else:\n",
    "            mets = create_call_backs_helper(corpus, call_logger)\n",
    "            c_backs = [mets[i] for i in call_backs]\n",
    "            lda = gensim.models.ldamodel.LdaModel\n",
    "            lda_model = lda(corpus=corpus,\n",
    "                            id2word=dictionary,\n",
    "                            num_topics=num_topics,\n",
    "                            passes=num_passes,\n",
    "                            iterations=num_iterations,\n",
    "                            alpha=alpha,\n",
    "                            eta=eta,\n",
    "                            chunksize=chunksize,\n",
    "                            callbacks=c_backs)\n",
    "        return lda_model\n",
    "    \n",
    "\n",
    "def create_call_backs_helper(corpus, logger):\n",
    "    '''\n",
    "    Get a dictionary of callbacks.\n",
    "    '''\n",
    "    per_met = PerplexityMetric(corpus=corpus, logger=logger, title=\"Perplexity\")\n",
    "    coh_met = CoherenceMetric(corpus=corpus, coherence=\"u_mass\", logger=logger, title=\"Coherence (u_mass)\")\n",
    "    dif_met = DiffMetric(distance=\"kullback_leibler\", logger=logger, title=\"Topic Difference (kullback_leibler)\")\n",
    "    con_met = ConvergenceMetric(distance=\"kullback_leibler\", logger=logger, title=\"Convergence (kullback_leibler)\")\n",
    "\n",
    "    return {'perplexity': per_met, 'coherence': coh_met, 'topic_diff': dif_met, 'convergence': con_met}"
   ]
  },
  {
   "cell_type": "code",
   "execution_count": 92,
   "metadata": {},
   "outputs": [],
   "source": [
    "lda_model = gensim.models.ldamodel.LdaModel(corpus=corpus,\n",
    "                                           id2word=id2word,\n",
    "                                           num_topics=5, \n",
    "                                           random_state=100,\n",
    "                                           update_every=1,\n",
    "                                           chunksize=100,\n",
    "                                           passes=10,\n",
    "                                           iterations=50,\n",
    "                                           alpha='auto',\n",
    "                                           per_word_topics=True)"
   ]
  },
  {
   "cell_type": "code",
   "execution_count": 27,
   "metadata": {
    "scrolled": true
   },
   "outputs": [],
   "source": [
    "pprint(lda.print_topics())\n",
    "# doc_lda = lda_model[corpus]"
   ]
  },
  {
   "cell_type": "code",
   "execution_count": 14,
   "metadata": {},
   "outputs": [
    {
     "name": "stdout",
     "output_type": "stream",
     "text": [
      "\n",
      "Perplexity:  -7.906688788242887\n",
      "\n",
      "Coherence Score:  0.3197923522141132\n"
     ]
    }
   ],
   "source": [
    "# Compute Perplexity\n",
    "print('\\nPerplexity: ', lda.log_perplexity(corpus))  \n",
    "# a measure of how good the model is. lower the better.\n",
    "\n",
    "# Compute Coherence Score. higher the better\n",
    "coherence_model_lda = CoherenceModel(model=lda, texts=data_lemmatized, dictionary=id2word)#, coherence='c_v'\n",
    "coherence_lda = coherence_model_lda.get_coherence()\n",
    "print('\\nCoherence Score: ', coherence_lda)"
   ]
  },
  {
   "cell_type": "code",
   "execution_count": null,
   "metadata": {},
   "outputs": [],
   "source": [
    "# Action, comedy, drama, romance, and musical"
   ]
  },
  {
   "cell_type": "code",
   "execution_count": 28,
   "metadata": {},
   "outputs": [],
   "source": [
    "# pyLDAvis.enable_notebook()\n",
    "# vis = pyLDAvis.gensim.prepare(lda, corpus, id2word)\n",
    "# vis"
   ]
  },
  {
   "cell_type": "markdown",
   "metadata": {},
   "source": [
    "### Mallet model"
   ]
  },
  {
   "cell_type": "code",
   "execution_count": 18,
   "metadata": {},
   "outputs": [],
   "source": [
    "mallet_path = '/Users/liawany/Documents/git/mallet-2.0.8/bin/mallet'"
   ]
  },
  {
   "cell_type": "code",
   "execution_count": 30,
   "metadata": {},
   "outputs": [],
   "source": [
    "ldamallet = gensim.models.wrappers.LdaMallet(mallet_path, corpus=corpus, num_topics=5, id2word=id2word, random_seed=123)\n",
    "\n",
    "model = gensim.models.wrappers.ldamallet.malletmodel2ldamodel(ldamallet)"
   ]
  },
  {
   "cell_type": "code",
   "execution_count": 51,
   "metadata": {
    "scrolled": true
   },
   "outputs": [
    {
     "name": "stdout",
     "output_type": "stream",
     "text": [
      "[(0,\n",
      "  [('leave', 0.020624623996233424),\n",
      "   ('find', 0.015425963223562031),\n",
      "   ('give', 0.01190133661165023),\n",
      "   ('return', 0.011136250686615574),\n",
      "   ('back', 0.009939577829510084),\n",
      "   ('night', 0.009272579843582433),\n",
      "   ('money', 0.009043707985666083),\n",
      "   ('run', 0.008867149695273469),\n",
      "   ('job', 0.008677513012999922),\n",
      "   ('call', 0.008507493918547776)]),\n",
      " (1,\n",
      "  [('kill', 0.009509670170933312),\n",
      "   ('man', 0.009061605542626328),\n",
      "   ('order', 0.007376347537650804),\n",
      "   ('force', 0.0073495974105877),\n",
      "   ('escape', 0.006680844234010112),\n",
      "   ('discover', 0.0063932803680817486),\n",
      "   ('return', 0.006246154669234679),\n",
      "   ('team', 0.006172591819811144),\n",
      "   ('attack', 0.00606559131155873),\n",
      "   ('fight', 0.005323275285557607)]),\n",
      " (2,\n",
      "  [('love', 0.037454612339993594),\n",
      "   ('family', 0.023891110490425162),\n",
      "   ('fall', 0.015634473503143925),\n",
      "   ('mother', 0.015586786655857648),\n",
      "   ('marry', 0.015409664080222901),\n",
      "   ('friend', 0.014524051202049172),\n",
      "   ('meet', 0.013692937577916902),\n",
      "   ('life', 0.013577126663078799),\n",
      "   ('day', 0.013304630392871497),\n",
      "   ('live', 0.012160146058000832)]),\n",
      " (3,\n",
      "  [('film', 0.016071643311381015),\n",
      "   ('show', 0.013065283977165817),\n",
      "   ('play', 0.012322536376947944),\n",
      "   ('make', 0.010893631469862133),\n",
      "   ('begin', 0.009153479949351687),\n",
      "   ('end', 0.008693683815883481),\n",
      "   ('time', 0.008332920695777657),\n",
      "   ('woman', 0.008099485735709183),\n",
      "   ('young', 0.007936788642328125),\n",
      "   ('boy', 0.006649359468617146)]),\n",
      " (4,\n",
      "  [('kill', 0.0281883044709763),\n",
      "   ('man', 0.019081424115306014),\n",
      "   ('police', 0.017482341974113514),\n",
      "   ('find', 0.014793302499014019),\n",
      "   ('reveal', 0.012061238392312932),\n",
      "   ('murder', 0.00877702484672475),\n",
      "   ('death', 0.008583414004517587),\n",
      "   ('arrest', 0.008131655372700872),\n",
      "   ('brother', 0.007952386074360905),\n",
      "   ('fight', 0.00781614140762253)])]\n"
     ]
    }
   ],
   "source": [
    "pprint(ldamallet.show_topics(formatted=False))"
   ]
  },
  {
   "cell_type": "code",
   "execution_count": 32,
   "metadata": {},
   "outputs": [
    {
     "name": "stdout",
     "output_type": "stream",
     "text": [
      "\n",
      "Coherence Score:  0.37565674127449195\n"
     ]
    }
   ],
   "source": [
    "# Compute Coherence Score\n",
    "coherence_model_ldamallet = CoherenceModel(model=ldamallet, texts=data_lemmatized, dictionary=id2word, coherence='c_v')\n",
    "coherence_ldamallet = coherence_model_ldamallet.get_coherence()\n",
    "print('\\nCoherence Score: ', coherence_ldamallet)"
   ]
  },
  {
   "cell_type": "code",
   "execution_count": 52,
   "metadata": {},
   "outputs": [
    {
     "data": {
      "text/html": [
       "\n",
       "<link rel=\"stylesheet\" type=\"text/css\" href=\"https://cdn.rawgit.com/bmabey/pyLDAvis/files/ldavis.v1.0.0.css\">\n",
       "\n",
       "\n",
       "<div id=\"ldavis_el335021122447083603664867580\"></div>\n",
       "<script type=\"text/javascript\">\n",
       "\n",
       "var ldavis_el335021122447083603664867580_data = {\"mdsDat\": {\"x\": [0.055366458074690574, 0.2648996788741885, -0.22591918658410784, -0.24225327428290003, 0.1479063239181286], \"y\": [-0.22837226798681587, 0.01317046473490901, 0.22072116694673632, -0.1533649493460705, 0.14784558565124084], \"topics\": [1, 2, 3, 4, 5], \"cluster\": [1, 1, 1, 1, 1], \"Freq\": [21.064166019574543, 20.49475367057267, 19.801439731112787, 19.27518873708894, 19.36445184165106]}, \"tinfo\": {\"Term\": [\"love\", \"kill\", \"family\", \"police\", \"film\", \"mother\", \"marry\", \"man\", \"fall\", \"play\", \"leave\", \"show\", \"daughter\", \"friend\", \"life\", \"marriage\", \"girl\", \"day\", \"live\", \"money\", \"parent\", \"home\", \"murder\", \"reveal\", \"child\", \"run\", \"find\", \"night\", \"son\", \"father\", \"suitcase\", \"ranch\", \"waitress\", \"pink\", \"dorothy\", \"laced\", \"penalty\", \"godparent\", \"gust\", \"walter\", \"appropriateness\", \"vandalism\", \"devyani\", \"steak\", \"coupon\", \"embezzle\", \"petree\", \"refresh\", \"burlesque\", \"otis\", \"smokey\", \"thinly\", \"daze\", \"incorrectly\", \"punxatawney\", \"waken\", \"castor\", \"stunted\", \"trust_fund\", \"childaudience\", \"pay\", \"town\", \"room\", \"sell\", \"buy\", \"hotel\", \"game\", \"apartment\", \"race\", \"rise\", \"bar\", \"dinner\", \"bill\", \"door\", \"billy\", \"store\", \"road\", \"horse\", \"ride\", \"window\", \"dog\", \"quit\", \"worker\", \"player\", \"employee\", \"card\", \"ticket\", \"argue\", \"debt\", \"farm\", \"morning\", \"offer\", \"drive\", \"job\", \"pick\", \"owner\", \"night\", \"car\", \"leave\", \"walk\", \"run\", \"money\", \"give\", \"call\", \"return\", \"back\", \"home\", \"find\", \"arrive\", \"work\", \"agree\", \"lose\", \"put\", \"discover\", \"make\", \"woman\", \"follow\", \"begin\", \"visit\", \"thendral\", \"holdout\", \"stockade\", \"preacher\", \"racketeering\", \"shao\", \"sumitradevi\", \"dignitary\", \"kingpin\", \"jhawle\", \"anubis\", \"beetle\", \"excavate\", \"hypothesize\", \"imhotep\", \"medjai\", \"mummify\", \"namun\", \"pyramid\", \"resurrection\", \"blending\", \"disenchanted\", \"flare\", \"mps\", \"flush\", \"ozunu\", \"biblical\", \"archive\", \"chapman\", \"eviscerating\", \"destroy\", \"capture\", \"agent\", \"ship\", \"soldier\", \"bomb\", \"mission\", \"defeat\", \"terrorist\", \"plane\", \"war\", \"crew\", \"government\", \"power\", \"battle\", \"guard\", \"wound\", \"weapon\", \"remove\", \"british\", \"pilot\", \"military\", \"boat\", \"prevent\", \"training\", \"ghost\", \"prisoner\", \"gold\", \"helicopter\", \"human\", \"hostage\", \"survive\", \"team\", \"water\", \"force\", \"attack\", \"fly\", \"remain\", \"order\", \"rescue\", \"base\", \"group\", \"escape\", \"discover\", \"land\", \"man\", \"kill\", \"fight\", \"attempt\", \"send\", \"lead\", \"return\", \"train\", \"arrive\", \"fire\", \"reveal\", \"find\", \"head\", \"death\", \"die\", \"cope\", \"poor\", \"employment\", \"illness\", \"rakesh\", \"emotion\", \"grief\", \"quality\", \"gradually\", \"shekhar\", \"simran\", \"uma\", \"propose\", \"abroad\", \"sake\", \"sunny\", \"blossom\", \"profess\", \"srinu\", \"settle\", \"sad\", \"stepmother\", \"hesitate\", \"hilarious\", \"railway\", \"suicidal\", \"kind\", \"apologise\", \"happy\", \"gautham\", \"love\", \"family\", \"mother\", \"marry\", \"daughter\", \"marriage\", \"parent\", \"village\", \"sister\", \"husband\", \"wedding\", \"baby\", \"care\", \"married\", \"pregnant\", \"bear\", \"priya\", \"ram\", \"childhood\", \"lucky\", \"understand\", \"grandfather\", \"rohit\", \"hate\", \"hurt\", \"cousin\", \"lover\", \"father\", \"rich\", \"fall\", \"feeling\", \"child\", \"live\", \"day\", \"life\", \"son\", \"girl\", \"friend\", \"story\", \"meet\", \"start\", \"decide\", \"accept\", \"wife\", \"leave\", \"home\", \"time\", \"die\", \"find\", \"back\", \"young\", \"session\", \"image\", \"extend\", \"rumor\", \"version\", \"maharaj\", \"supreme\", \"riotous\", \"superconductor\", \"harmless\", \"grandma\", \"today\", \"usher\", \"adirondack\", \"yonker\", \"irascible\", \"packaging\", \"declaration\", \"temporary\", \"gena\", \"indie\", \"consternation\", \"misadventure\", \"probert\", \"spending\", \"zetterle\", \"merit\", \"jango\", \"polite\", \"rocker\", \"film\", \"play\", \"school\", \"dance\", \"student\", \"perform\", \"write\", \"band\", \"career\", \"stage\", \"music\", \"singer\", \"book\", \"teacher\", \"sing\", \"performance\", \"star\", \"club\", \"class\", \"sex\", \"role\", \"audience\", \"success\", \"character\", \"romantic\", \"song\", \"jealous\", \"singe\", \"dancer\", \"famous\", \"romance\", \"interest\", \"attend\", \"show\", \"act\", \"boy\", \"begin\", \"movie\", \"young\", \"woman\", \"end\", \"dream\", \"make\", \"time\", \"spend\", \"date\", \"work\", \"girl\", \"relationship\", \"join\", \"year\", \"decide\", \"friend\", \"turn\", \"life\", \"night\", \"lead\", \"troggs\", \"udhay\", \"godfrey\", \"shyloo\", \"surrogacy\", \"venkateswararao\", \"paruchuri\", \"cader\", \"asuragana\", \"pledging\", \"danceking\", \"singamuthu\", \"meaninglessly\", \"po\", \"easwari\", \"institutionalise\", \"godspeed\", \"visnu\", \"ladda\", \"gemini\", \"staunchly\", \"overhears\", \"saun\", \"parlor_manag\", \"neutralised\", \"espresso\", \"garruci\", \"fearlessness\", \"hazen\", \"km\", \"police\", \"murder\", \"beat\", \"gang\", \"case\", \"arrest\", \"drug\", \"kidnap\", \"crime\", \"jail\", \"witness\", \"criminal\", \"identity\", \"revenge\", \"inspector\", \"evidence\", \"henchman\", \"court\", \"rape\", \"sentence\", \"goon\", \"cop\", \"vijay\", \"gangster\", \"killer\", \"ravi\", \"raju\", \"krishna\", \"victim\", \"corrupt\", \"hang\", \"kill\", \"man\", \"death\", \"gun\", \"involve\", \"reveal\", \"manage\", \"brother\", \"shoot\", \"prison\", \"people\", \"fight\", \"dead\", \"plan\", \"find\", \"hand\", \"money\", \"save\", \"place\", \"escape\", \"call\", \"decide\", \"give\", \"make\", \"run\", \"local\", \"meet\", \"friend\"], \"Freq\": [6342.0, 6334.0, 4045.0, 2895.0, 2649.0, 2639.0, 2609.0, 5166.0, 2949.0, 2031.0, 6392.0, 2848.0, 1911.0, 4087.0, 3341.0, 1683.0, 2723.0, 2977.0, 2661.0, 2795.0, 1531.0, 2766.0, 1453.0, 3327.0, 1944.0, 2465.0, 7494.0, 2346.0, 2145.0, 1588.0, 64.78737267541254, 64.78737267541254, 64.78737267541254, 64.78737267541254, 68.32122936679868, 4.711808921848185, 9.42361784369637, 1.1779522304620462, 7.067713382772278, 3.533856691386139, 1.1779522304620462, 1.1779522304620462, 1.1779522304620462, 17.669283456930696, 5.889761152310232, 22.381092378778877, 3.533856691386139, 4.711808921848185, 5.889761152310232, 7.067713382772278, 35.33856691386139, 7.067713382772278, 5.889761152310232, 4.711808921848185, 1.1779522304620462, 1.1779522304620462, 4.711808921848185, 1.1779522304620462, 5.889761152310232, 1.1779522304620462, 1154.3931858528053, 1128.4782367826404, 1099.029431021089, 775.0925676440265, 756.2453319566338, 716.1949561209241, 634.9162522190429, 700.8815771249176, 563.0611661608581, 506.5194590986799, 502.98560240729375, 459.4013698801981, 374.5888092869307, 372.23290482600663, 347.4959079863037, 347.4959079863037, 326.29276783798684, 294.4880576155116, 477.07065333712876, 288.59829646320134, 286.24239200227726, 277.996726389043, 275.64082192811884, 270.9290130062706, 245.01406393610566, 237.94635055333333, 236.76839832287132, 223.8109237877888, 223.8109237877888, 212.03140148316837, 300.3778187678218, 1451.2371479292412, 1104.9191921733993, 1563.1426098231354, 453.51160872788785, 567.7729750827064, 1670.3362627951815, 1506.6009027609573, 3715.2613348772943, 715.0170038904621, 1597.3032245065347, 1629.1079347290101, 2143.873059440924, 1532.5158518311223, 2006.0526484768648, 1790.4873903023104, 1513.6686161437297, 2778.789311659967, 1385.2718230233666, 1388.8056797147526, 924.6925009127062, 901.1334563034654, 744.4658096520133, 943.5397366000991, 1425.322198859076, 843.4137970108252, 796.2957077923434, 749.1776185738614, 731.5083351169307, 1.1721079720903438, 5.86053986045172, 3.516323916271032, 18.7537275534455, 1.1721079720903438, 2.3442159441806876, 1.1721079720903438, 14.065295665084127, 3.516323916271032, 1.1721079720903438, 2.3442159441806876, 3.516323916271032, 3.516323916271032, 2.3442159441806876, 10.548971748813095, 1.1721079720903438, 3.516323916271032, 5.86053986045172, 8.204755804632407, 11.72107972090344, 1.1721079720903438, 5.86053986045172, 12.893187692993783, 1.1721079720903438, 24.61426741389722, 8.204755804632407, 4.688431888361375, 8.204755804632407, 3.516323916271032, 2.3442159441806876, 805.2381768260663, 771.2470456354464, 733.7395905285553, 710.2974310867485, 588.3982019893526, 523.9322635243838, 522.7601555522934, 454.7778931710534, 448.9173533106017, 447.7452453385114, 444.2289214222404, 443.05681345015, 421.95886995252386, 494.62956422212517, 378.59087498518113, 366.8697952642776, 355.14871554337424, 319.9854763806639, 312.95282854812183, 301.2317488272184, 294.1991009946763, 290.6827770784053, 282.47802127377287, 282.47802127377287, 274.2732654691405, 270.7569415528694, 270.7569415528694, 266.0685096645081, 266.0685096645081, 263.72429372032735, 346.9439597387418, 493.4574562500348, 1081.8556582393874, 398.51671051071696, 1288.146661327288, 1063.1019306859419, 512.2111838034803, 651.6920324822312, 1292.8350932156493, 752.4933180820008, 462.98264897568583, 853.2946036817704, 1170.9358641182537, 1120.5352213183687, 532.1370193290162, 1588.206302182416, 1666.737536312469, 932.9979457839138, 899.0068145932937, 845.0898478771379, 868.5320073189448, 1094.7488459323813, 665.7573281473153, 877.9088710956676, 632.9383049287857, 909.5557863421068, 870.8762232631254, 570.8165824079974, 581.3655541568106, 533.3091273011064, 54.219343677602424, 418.757909680206, 71.52338953215639, 58.833755905483486, 38.068900880018724, 93.44184761459141, 54.219343677602424, 61.140962019424016, 159.19722186189648, 66.90897730427534, 35.76169476607819, 122.28192403884803, 509.89255118085686, 91.13464150065089, 76.13780176003745, 160.35082491886675, 70.36978647518613, 38.068900880018724, 40.376106993959255, 304.5512070401498, 98.05625984247247, 35.76169476607819, 33.45448865213767, 38.068900880018724, 38.068900880018724, 33.45448865213767, 139.585969893402, 74.98419870306718, 620.6384446500023, 33.45448865213767, 6342.509607222513, 4045.6859207947173, 2639.443794347965, 2609.450114866738, 1911.5202653997283, 1683.106860119616, 1531.9848596565112, 1297.8034390915475, 1162.8318814260267, 951.7225220004682, 919.4216364053008, 745.2275748027909, 639.0960935615266, 606.795207966359, 467.2092380729571, 396.839451597771, 355.30974154684145, 338.00569569228753, 295.3223825843877, 282.6327489577148, 357.61694766078193, 233.02781750799343, 220.3381838813205, 220.3381838813205, 214.5701685964692, 206.49494719767733, 288.4007642425661, 1478.919119035879, 542.1934367760242, 2647.519015746757, 655.2465363591102, 1655.4203867523295, 2059.181456691922, 2252.9867702629263, 2299.130892541737, 1576.9753788783514, 1831.92165446878, 2459.4817174606037, 1503.1447832322547, 2318.7421445102314, 1451.2326456685926, 1591.972218618965, 879.0455294113415, 1173.214308938759, 1863.068937006977, 1252.8129198697072, 1326.6435155158042, 1003.63465956413, 1394.7060958770496, 1132.8382019447997, 992.0986289944274, 68.79575926879998, 137.59151853759997, 68.79575926879998, 68.79575926879998, 157.41402544555928, 1.166029818115254, 1.166029818115254, 4.664119272461016, 1.166029818115254, 8.162208726806778, 17.490447271728808, 51.30531199707117, 10.494268363037285, 1.166029818115254, 3.498089454345762, 3.498089454345762, 3.498089454345762, 10.494268363037285, 51.30531199707117, 5.83014909057627, 5.83014909057627, 10.494268363037285, 31.482805089111856, 1.166029818115254, 106.10871344848812, 1.166029818115254, 13.992357817383049, 1.166029818115254, 13.992357817383049, 8.162208726806778, 2649.219746757857, 2031.2239431567723, 1082.0756712109558, 945.650182491471, 944.4841526733557, 815.0548428625625, 787.0701272277964, 572.5206406945897, 537.539746151132, 531.7095970605559, 485.0684043359457, 443.0913308837965, 427.9329432482983, 413.9405854309151, 408.1104363403389, 408.1104363403389, 401.1142574316474, 392.9520487048406, 391.78601888672534, 488.5664937902914, 370.79748216065076, 361.4692436157288, 342.8127665258847, 444.2573607019118, 333.48452798096264, 327.65437889038634, 324.15628943604065, 308.9979018005423, 286.8433352563525, 258.8586196215864, 317.1601105273491, 451.25353961060324, 613.3316843286236, 2153.657074058874, 497.89473233521346, 1096.0680290283387, 1508.8425846411385, 703.1159803234982, 1308.285455925315, 1335.1041417419658, 1433.0506464636474, 551.5321039685151, 1795.6859198974912, 1373.5831257397692, 640.1503701452745, 483.9023745178304, 1005.1177032153489, 892.0128108581692, 652.9766981445422, 592.343147602549, 703.1159803234982, 820.8849919531388, 822.0510217712541, 706.614069777844, 763.7495308654914, 676.2972945068474, 610.9996246923931, 1.1874905897457002, 9.499924717965602, 2.3749811794914004, 1.1874905897457002, 1.1874905897457002, 1.1874905897457002, 1.1874905897457002, 1.1874905897457002, 1.1874905897457002, 1.1874905897457002, 2.3749811794914004, 2.3749811794914004, 1.1874905897457002, 1.1874905897457002, 1.1874905897457002, 1.1874905897457002, 1.1874905897457002, 1.1874905897457002, 2.3749811794914004, 4.749962358982801, 4.749962358982801, 1.1874905897457002, 2.3749811794914004, 2.3749811794914004, 1.1874905897457002, 1.1874905897457002, 2.3749811794914004, 1.1874905897457002, 4.749962358982801, 4.749962358982801, 2895.1020578000175, 1453.4884818487371, 904.8678293862237, 850.2432622579214, 816.9935257450418, 1346.614328771624, 659.0572773088636, 619.8700878472555, 612.7451443087814, 568.8079924881904, 548.6206524625135, 512.9959347701425, 480.9336888470086, 467.87129235980586, 410.8717440520123, 406.12178169302945, 403.7468005135381, 398.9968381545553, 353.8721957442187, 333.68485571854177, 330.1223839493047, 320.62245923133906, 314.6850062826106, 308.747553333882, 308.747553333882, 288.56021330820516, 277.87279800049384, 265.99789210303686, 264.8104015132912, 248.18553325685136, 299.2476286159165, 4668.025508290348, 3159.912459313309, 1421.4262359256034, 625.807540795984, 556.9330865907334, 1997.3591719522678, 972.5547930017285, 1316.9270640279815, 1040.2417566172335, 610.37016312929, 1003.4295483351168, 1294.3647428228132, 732.6816938730971, 1226.6777792073085, 2449.7930866453794, 727.9317315141143, 1166.1157591302776, 858.5556963861412, 866.8681305143612, 897.7428858477493, 978.492245950457, 1030.7418318992677, 1053.3041531044362, 1137.6159849763808, 868.0556211041069, 733.8691844628427, 813.4310539758046, 806.3061104373305], \"Total\": [6342.0, 6334.0, 4045.0, 2895.0, 2649.0, 2639.0, 2609.0, 5166.0, 2949.0, 2031.0, 6392.0, 2848.0, 1911.0, 4087.0, 3341.0, 1683.0, 2723.0, 2977.0, 2661.0, 2795.0, 1531.0, 2766.0, 1453.0, 3327.0, 1944.0, 2465.0, 7494.0, 2346.0, 2145.0, 1588.0, 64.78737267541254, 64.78737267541254, 64.78737267541254, 64.78737267541254, 68.32122936679868, 4.711808921848185, 9.42361784369637, 1.1779522304620462, 7.067713382772278, 3.533856691386139, 1.1779522304620462, 1.1779522304620462, 1.1779522304620462, 17.669283456930696, 5.889761152310232, 22.381092378778877, 3.533856691386139, 4.711808921848185, 5.889761152310232, 7.067713382772278, 35.33856691386139, 7.067713382772278, 5.889761152310232, 4.711808921848185, 1.1779522304620462, 1.1779522304620462, 4.711808921848185, 1.1779522304620462, 5.889761152310232, 1.1779522304620462, 1154.3931858528053, 1128.4782367826404, 1100.2169216108348, 775.0925676440265, 756.2453319566338, 716.1949561209241, 634.9162522190429, 702.0690677146633, 563.0611661608581, 506.5194590986799, 502.98560240729375, 459.4013698801981, 374.5888092869307, 372.23290482600663, 347.4959079863037, 347.4959079863037, 326.29276783798684, 294.4880576155116, 479.41486928130945, 288.59829646320134, 286.24239200227726, 277.996726389043, 275.64082192811884, 270.9290130062706, 245.01406393610566, 237.94635055333333, 236.76839832287132, 223.8109237877888, 223.8109237877888, 212.03140148316837, 301.5653093575675, 1539.145245836017, 1196.3220800510428, 1766.176747849902, 480.47009208596575, 627.0187399402087, 2346.6335573020287, 2130.0334623774497, 6392.544338390733, 880.5932380628282, 2465.3588456106418, 2795.223693859288, 4135.31585487715, 2731.3877334053623, 3974.9985888604656, 3453.9767931903625, 2766.481536013437, 7494.164717445521, 2752.426817094263, 3177.706767465461, 1726.051723969993, 1696.9557340855047, 1175.5924822608904, 2064.0749579184676, 5530.696626166875, 2582.2790086923833, 1988.0908030074474, 2678.8069651954333, 1483.0516975938367, 1.1721079720903438, 5.86053986045172, 3.516323916271032, 18.7537275534455, 1.1721079720903438, 2.3442159441806876, 1.1721079720903438, 14.065295665084127, 3.516323916271032, 1.1721079720903438, 2.3442159441806876, 3.516323916271032, 3.516323916271032, 2.3442159441806876, 10.548971748813095, 1.1721079720903438, 3.516323916271032, 5.86053986045172, 8.204755804632407, 11.72107972090344, 1.1721079720903438, 5.86053986045172, 12.893187692993783, 1.1721079720903438, 24.61426741389722, 8.204755804632407, 4.688431888361375, 8.204755804632407, 3.516323916271032, 2.3442159441806876, 805.2381768260663, 771.2470456354464, 733.7395905285553, 710.2974310867485, 588.3982019893526, 523.9322635243838, 522.7601555522934, 454.7778931710534, 448.9173533106017, 447.7452453385114, 444.2289214222404, 443.05681345015, 421.95886995252386, 495.8075164525872, 378.59087498518113, 366.8697952642776, 355.14871554337424, 319.9854763806639, 312.95282854812183, 301.2317488272184, 294.1991009946763, 290.6827770784053, 282.47802127377287, 282.47802127377287, 274.2732654691405, 270.7569415528694, 270.7569415528694, 266.0685096645081, 266.0685096645081, 263.72429372032735, 348.12191196920384, 512.457305685966, 1240.8792093517636, 419.695501485542, 1817.7102341981686, 1473.973674737954, 601.7355533185957, 820.4894147178142, 1976.8082121375423, 1007.8037948773263, 541.4276568496638, 1302.259005199404, 2068.678749966003, 2064.0749579184676, 676.3995352560241, 5166.876671175931, 6334.763044602817, 2227.362688606727, 2109.393427554813, 1873.0262298299613, 2031.7147562430887, 3974.9985888604656, 1206.4803596872403, 2752.426817094263, 1153.59319079301, 3327.980074088521, 7494.164717445521, 1321.6682181772094, 2003.957819900529, 2092.689382866224, 54.219343677602424, 418.757909680206, 71.52338953215639, 58.833755905483486, 38.068900880018724, 93.44184761459141, 54.219343677602424, 61.140962019424016, 159.19722186189648, 66.90897730427534, 35.76169476607819, 122.28192403884803, 509.89255118085686, 91.13464150065089, 76.13780176003745, 160.35082491886675, 70.36978647518613, 38.068900880018724, 40.376106993959255, 304.5512070401498, 98.05625984247247, 35.76169476607819, 33.45448865213767, 38.068900880018724, 38.068900880018724, 33.45448865213767, 139.585969893402, 74.98419870306718, 620.6384446500023, 33.45448865213767, 6342.509607222513, 4045.6859207947173, 2639.443794347965, 2609.450114866738, 1911.5202653997283, 1683.106860119616, 1531.9848596565112, 1297.8034390915475, 1162.8318814260267, 951.7225220004682, 920.587666223416, 745.2275748027909, 639.0960935615266, 606.795207966359, 467.2092380729571, 396.839451597771, 355.30974154684145, 338.00569569228753, 295.3223825843877, 282.6327489577148, 358.78905563287225, 233.02781750799343, 220.3381838813205, 220.3381838813205, 214.5701685964692, 206.49494719767733, 290.7328238787966, 1588.1682532924835, 562.3807768017011, 2949.1416255421645, 697.2236098112594, 1944.018683215531, 2661.9891937397106, 2977.005476868811, 3341.940711997468, 2145.783371366542, 2723.934465326949, 4087.838849669188, 2215.9610160112975, 3919.4220724460392, 2432.7579596047626, 3443.5990424713714, 1301.1483235690635, 2305.348723005727, 6392.544338390733, 2766.481536013437, 3772.7417807121224, 2092.689382866224, 7494.164717445521, 3453.9767931903625, 2392.9806147148797, 68.79575926879998, 137.59151853759997, 68.79575926879998, 68.79575926879998, 157.41402544555928, 1.166029818115254, 1.166029818115254, 4.664119272461016, 1.166029818115254, 8.162208726806778, 17.490447271728808, 51.30531199707117, 10.494268363037285, 1.166029818115254, 3.498089454345762, 3.498089454345762, 3.498089454345762, 10.494268363037285, 51.30531199707117, 5.83014909057627, 5.83014909057627, 10.494268363037285, 31.482805089111856, 1.166029818115254, 106.10871344848812, 1.166029818115254, 13.992357817383049, 1.166029818115254, 13.992357817383049, 8.162208726806778, 2649.219746757857, 2031.2239431567723, 1083.247779183046, 945.650182491471, 944.4841526733557, 815.0548428625625, 787.0701272277964, 572.5206406945897, 537.539746151132, 531.7095970605559, 485.0684043359457, 443.0913308837965, 427.9329432482983, 413.9405854309151, 408.1104363403389, 408.1104363403389, 401.1142574316474, 392.9520487048406, 391.78601888672534, 489.75398438003714, 370.79748216065076, 361.4692436157288, 342.8127665258847, 445.43531293237385, 333.48452798096264, 327.65437889038634, 324.15628943604065, 308.9979018005423, 286.8433352563525, 258.8586196215864, 318.3322184994394, 472.4566797589201, 668.7046310631963, 2848.6488900314816, 550.1289356663689, 1461.6175132437836, 2678.8069651954333, 948.8334314581646, 2392.9806147148797, 2582.2790086923833, 3124.9492996128665, 680.7356463491848, 5530.696626166875, 3772.7417807121224, 963.1592260969485, 585.2062663375664, 3177.706767465461, 2723.934465326949, 1259.8449536313767, 1098.7338813379772, 2004.8731729312174, 3443.5990424713714, 4087.838849669188, 2295.5143940551557, 3341.940711997468, 2346.6335573020287, 2031.7147562430887, 1.1874905897457002, 9.499924717965602, 2.3749811794914004, 1.1874905897457002, 1.1874905897457002, 1.1874905897457002, 1.1874905897457002, 1.1874905897457002, 1.1874905897457002, 1.1874905897457002, 2.3749811794914004, 2.3749811794914004, 1.1874905897457002, 1.1874905897457002, 1.1874905897457002, 1.1874905897457002, 1.1874905897457002, 1.1874905897457002, 2.3749811794914004, 4.749962358982801, 4.749962358982801, 1.1874905897457002, 2.3749811794914004, 2.3749811794914004, 1.1874905897457002, 1.1874905897457002, 2.3749811794914004, 1.1874905897457002, 4.749962358982801, 4.749962358982801, 2895.1020578000175, 1453.4884818487371, 904.8678293862237, 850.2432622579214, 818.1656337171321, 1356.0321023569488, 659.0572773088636, 619.8700878472555, 612.7451443087814, 568.8079924881904, 548.6206524625135, 512.9959347701425, 480.9336888470086, 467.87129235980586, 410.8717440520123, 406.12178169302945, 403.7468005135381, 398.9968381545553, 353.8721957442187, 333.68485571854177, 330.1223839493047, 320.62245923133906, 314.6850062826106, 308.747553333882, 308.747553333882, 288.56021330820516, 277.87279800049384, 265.99789210303686, 264.8104015132912, 248.18553325685136, 302.7814853073026, 6334.763044602817, 5166.876671175931, 2003.957819900529, 752.3952017817411, 651.5395338614213, 3327.980074088521, 1339.4245882660061, 1992.9628045860482, 1482.1264620952932, 762.7441995010347, 1544.796172206807, 2227.362688606727, 1025.708686895683, 2391.144059267407, 7494.164717445521, 1113.7865737261861, 2795.223693859288, 1543.869151800047, 1624.0149336102654, 2068.678749966003, 2731.3877334053623, 3443.5990424713714, 4135.31585487715, 5530.696626166875, 2465.3588456106418, 1463.0216151188492, 3919.4220724460392, 4087.838849669188], \"Category\": [\"Default\", \"Default\", \"Default\", \"Default\", \"Default\", \"Default\", \"Default\", \"Default\", \"Default\", \"Default\", \"Default\", \"Default\", \"Default\", \"Default\", \"Default\", \"Default\", \"Default\", \"Default\", \"Default\", \"Default\", \"Default\", \"Default\", \"Default\", \"Default\", \"Default\", \"Default\", \"Default\", \"Default\", \"Default\", \"Default\", \"Topic1\", \"Topic1\", \"Topic1\", \"Topic1\", \"Topic1\", \"Topic1\", \"Topic1\", \"Topic1\", \"Topic1\", \"Topic1\", \"Topic1\", \"Topic1\", \"Topic1\", \"Topic1\", \"Topic1\", \"Topic1\", \"Topic1\", \"Topic1\", \"Topic1\", \"Topic1\", \"Topic1\", \"Topic1\", \"Topic1\", \"Topic1\", \"Topic1\", \"Topic1\", \"Topic1\", \"Topic1\", \"Topic1\", \"Topic1\", \"Topic1\", \"Topic1\", \"Topic1\", \"Topic1\", \"Topic1\", \"Topic1\", \"Topic1\", \"Topic1\", \"Topic1\", \"Topic1\", \"Topic1\", \"Topic1\", \"Topic1\", \"Topic1\", \"Topic1\", \"Topic1\", \"Topic1\", \"Topic1\", \"Topic1\", \"Topic1\", \"Topic1\", \"Topic1\", \"Topic1\", \"Topic1\", \"Topic1\", \"Topic1\", \"Topic1\", \"Topic1\", \"Topic1\", \"Topic1\", \"Topic1\", \"Topic1\", \"Topic1\", \"Topic1\", \"Topic1\", \"Topic1\", \"Topic1\", \"Topic1\", \"Topic1\", \"Topic1\", \"Topic1\", \"Topic1\", \"Topic1\", \"Topic1\", \"Topic1\", \"Topic1\", \"Topic1\", \"Topic1\", \"Topic1\", \"Topic1\", \"Topic1\", \"Topic1\", \"Topic1\", \"Topic1\", \"Topic1\", \"Topic1\", \"Topic1\", \"Topic1\", \"Topic1\", \"Topic2\", \"Topic2\", \"Topic2\", \"Topic2\", \"Topic2\", \"Topic2\", \"Topic2\", \"Topic2\", \"Topic2\", \"Topic2\", \"Topic2\", \"Topic2\", \"Topic2\", \"Topic2\", \"Topic2\", \"Topic2\", \"Topic2\", \"Topic2\", \"Topic2\", \"Topic2\", \"Topic2\", \"Topic2\", \"Topic2\", \"Topic2\", \"Topic2\", \"Topic2\", \"Topic2\", \"Topic2\", \"Topic2\", \"Topic2\", \"Topic2\", \"Topic2\", \"Topic2\", \"Topic2\", \"Topic2\", \"Topic2\", \"Topic2\", \"Topic2\", \"Topic2\", \"Topic2\", \"Topic2\", \"Topic2\", \"Topic2\", \"Topic2\", \"Topic2\", \"Topic2\", \"Topic2\", \"Topic2\", \"Topic2\", \"Topic2\", \"Topic2\", \"Topic2\", \"Topic2\", \"Topic2\", \"Topic2\", \"Topic2\", \"Topic2\", \"Topic2\", \"Topic2\", \"Topic2\", \"Topic2\", \"Topic2\", \"Topic2\", \"Topic2\", \"Topic2\", \"Topic2\", \"Topic2\", \"Topic2\", \"Topic2\", \"Topic2\", \"Topic2\", \"Topic2\", \"Topic2\", \"Topic2\", \"Topic2\", \"Topic2\", \"Topic2\", \"Topic2\", \"Topic2\", \"Topic2\", \"Topic2\", \"Topic2\", \"Topic2\", \"Topic2\", \"Topic2\", \"Topic2\", \"Topic2\", \"Topic2\", \"Topic2\", \"Topic2\", \"Topic3\", \"Topic3\", \"Topic3\", \"Topic3\", \"Topic3\", \"Topic3\", \"Topic3\", \"Topic3\", \"Topic3\", \"Topic3\", \"Topic3\", \"Topic3\", \"Topic3\", \"Topic3\", \"Topic3\", \"Topic3\", \"Topic3\", \"Topic3\", \"Topic3\", \"Topic3\", \"Topic3\", \"Topic3\", \"Topic3\", \"Topic3\", \"Topic3\", \"Topic3\", \"Topic3\", \"Topic3\", \"Topic3\", \"Topic3\", \"Topic3\", \"Topic3\", \"Topic3\", \"Topic3\", \"Topic3\", \"Topic3\", \"Topic3\", \"Topic3\", \"Topic3\", \"Topic3\", \"Topic3\", \"Topic3\", \"Topic3\", \"Topic3\", \"Topic3\", \"Topic3\", \"Topic3\", \"Topic3\", \"Topic3\", \"Topic3\", \"Topic3\", \"Topic3\", \"Topic3\", \"Topic3\", \"Topic3\", \"Topic3\", \"Topic3\", \"Topic3\", \"Topic3\", \"Topic3\", \"Topic3\", \"Topic3\", \"Topic3\", \"Topic3\", \"Topic3\", \"Topic3\", \"Topic3\", \"Topic3\", \"Topic3\", \"Topic3\", \"Topic3\", \"Topic3\", \"Topic3\", \"Topic3\", \"Topic3\", \"Topic3\", \"Topic3\", \"Topic3\", \"Topic3\", \"Topic3\", \"Topic3\", \"Topic4\", \"Topic4\", \"Topic4\", \"Topic4\", \"Topic4\", \"Topic4\", \"Topic4\", \"Topic4\", \"Topic4\", \"Topic4\", \"Topic4\", \"Topic4\", \"Topic4\", \"Topic4\", \"Topic4\", \"Topic4\", \"Topic4\", \"Topic4\", \"Topic4\", \"Topic4\", \"Topic4\", \"Topic4\", \"Topic4\", \"Topic4\", \"Topic4\", \"Topic4\", \"Topic4\", \"Topic4\", \"Topic4\", \"Topic4\", \"Topic4\", \"Topic4\", \"Topic4\", \"Topic4\", \"Topic4\", \"Topic4\", \"Topic4\", \"Topic4\", \"Topic4\", \"Topic4\", \"Topic4\", \"Topic4\", \"Topic4\", \"Topic4\", \"Topic4\", \"Topic4\", \"Topic4\", \"Topic4\", \"Topic4\", \"Topic4\", \"Topic4\", \"Topic4\", \"Topic4\", \"Topic4\", \"Topic4\", \"Topic4\", \"Topic4\", \"Topic4\", \"Topic4\", \"Topic4\", \"Topic4\", \"Topic4\", \"Topic4\", \"Topic4\", \"Topic4\", \"Topic4\", \"Topic4\", \"Topic4\", \"Topic4\", \"Topic4\", \"Topic4\", \"Topic4\", \"Topic4\", \"Topic4\", \"Topic4\", \"Topic4\", \"Topic4\", \"Topic4\", \"Topic4\", \"Topic4\", \"Topic4\", \"Topic4\", \"Topic4\", \"Topic4\", \"Topic4\", \"Topic4\", \"Topic4\", \"Topic5\", \"Topic5\", \"Topic5\", \"Topic5\", \"Topic5\", \"Topic5\", \"Topic5\", \"Topic5\", \"Topic5\", \"Topic5\", \"Topic5\", \"Topic5\", \"Topic5\", \"Topic5\", \"Topic5\", \"Topic5\", \"Topic5\", \"Topic5\", \"Topic5\", \"Topic5\", \"Topic5\", \"Topic5\", \"Topic5\", \"Topic5\", \"Topic5\", \"Topic5\", \"Topic5\", \"Topic5\", \"Topic5\", \"Topic5\", \"Topic5\", \"Topic5\", \"Topic5\", \"Topic5\", \"Topic5\", \"Topic5\", \"Topic5\", \"Topic5\", \"Topic5\", \"Topic5\", \"Topic5\", \"Topic5\", \"Topic5\", \"Topic5\", \"Topic5\", \"Topic5\", \"Topic5\", \"Topic5\", \"Topic5\", \"Topic5\", \"Topic5\", \"Topic5\", \"Topic5\", \"Topic5\", \"Topic5\", \"Topic5\", \"Topic5\", \"Topic5\", \"Topic5\", \"Topic5\", \"Topic5\", \"Topic5\", \"Topic5\", \"Topic5\", \"Topic5\", \"Topic5\", \"Topic5\", \"Topic5\", \"Topic5\", \"Topic5\", \"Topic5\", \"Topic5\", \"Topic5\", \"Topic5\", \"Topic5\", \"Topic5\", \"Topic5\", \"Topic5\", \"Topic5\", \"Topic5\", \"Topic5\", \"Topic5\", \"Topic5\", \"Topic5\", \"Topic5\", \"Topic5\", \"Topic5\", \"Topic5\", \"Topic5\"], \"logprob\": [30.0, 29.0, 28.0, 27.0, 26.0, 25.0, 24.0, 23.0, 22.0, 21.0, 20.0, 19.0, 18.0, 17.0, 16.0, 15.0, 14.0, 13.0, 12.0, 11.0, 10.0, 9.0, 8.0, 7.0, 6.0, 5.0, 4.0, 3.0, 2.0, 1.0, -7.9304, -7.9304, -7.9304, -7.9304, -7.8773, -10.5514, -9.8583, -11.9377, -10.1459, -10.8391, -11.9377, -11.9377, -11.9377, -9.2296, -10.3283, -8.9933, -10.8391, -10.5514, -10.3283, -10.1459, -8.5365, -10.1459, -10.3283, -10.5514, -11.9377, -11.9377, -10.5514, -11.9377, -10.3283, -11.9377, -5.0501, -5.0728, -5.0993, -5.4485, -5.4731, -5.5275, -5.648, -5.5491, -5.7681, -5.8739, -5.8809, -5.9715, -6.1756, -6.182, -6.2507, -6.2507, -6.3137, -6.4162, -5.9338, -6.4364, -6.4446, -6.4739, -6.4824, -6.4996, -6.6002, -6.6294, -6.6344, -6.6907, -6.6907, -6.7447, -6.3964, -4.8213, -5.0939, -4.747, -5.9845, -5.7598, -4.6807, -4.7839, -3.8813, -5.5292, -4.7254, -4.7057, -4.4311, -4.7668, -4.4975, -4.6112, -4.7792, -4.1717, -4.8678, -4.8653, -5.272, -5.2978, -5.4888, -5.2518, -4.8393, -5.364, -5.4215, -5.4825, -5.5064, -11.9153, -10.3058, -10.8167, -9.1427, -11.9153, -11.2221, -11.9153, -9.4304, -10.8167, -11.9153, -11.2221, -10.8167, -10.8167, -11.2221, -9.718, -11.9153, -10.8167, -10.3058, -9.9694, -9.6127, -11.9153, -10.3058, -9.5174, -11.9153, -8.8707, -9.9694, -10.529, -9.9694, -10.8167, -11.2221, -5.3829, -5.4261, -5.4759, -5.5084, -5.6967, -5.8127, -5.8149, -5.9543, -5.9672, -5.9698, -5.9777, -5.9804, -6.0292, -5.8703, -6.1376, -6.1691, -6.2015, -6.3058, -6.328, -6.3662, -6.3898, -6.4018, -6.4305, -6.4305, -6.4599, -6.4728, -6.4728, -6.4903, -6.4903, -6.4992, -6.2249, -5.8726, -5.0876, -6.0863, -4.9131, -5.1051, -5.8353, -5.5945, -4.9095, -5.4507, -5.9364, -5.325, -5.0085, -5.0525, -5.7972, -4.7037, -4.6554, -5.2357, -5.2728, -5.3346, -5.3073, -5.0758, -5.5731, -5.2965, -5.6237, -5.2611, -5.3046, -5.727, -5.7087, -5.795, -8.0466, -6.0024, -7.7696, -7.9649, -8.4003, -7.5023, -8.0466, -7.9265, -6.9695, -7.8363, -8.4628, -7.2333, -5.8055, -7.5273, -7.7071, -6.9623, -7.7859, -8.4003, -8.3414, -6.3208, -7.4541, -8.4628, -8.5295, -8.4003, -8.4003, -8.5295, -7.101, -7.7224, -5.6089, -8.5295, -3.2846, -3.7342, -4.1613, -4.1728, -4.484, -4.6113, -4.7053, -4.8712, -4.981, -5.1814, -5.2159, -5.426, -5.5796, -5.6315, -5.8929, -6.0561, -6.1667, -6.2166, -6.3516, -6.3955, -6.1602, -6.5885, -6.6445, -6.6445, -6.671, -6.7094, -6.3753, -4.7406, -5.744, -4.1583, -5.5546, -4.6278, -4.4096, -4.3196, -4.2994, -4.6764, -4.5265, -4.2319, -4.7243, -4.2909, -4.7595, -4.6669, -5.2608, -4.9722, -4.5097, -4.9065, -4.8492, -5.1283, -4.7992, -5.0072, -5.1398, -7.7816, -7.0884, -7.7816, -7.7816, -6.9538, -11.8591, -11.8591, -10.4728, -11.8591, -9.9132, -9.1511, -8.0749, -9.6619, -11.8591, -10.7605, -10.7605, -10.7605, -9.6619, -8.0749, -10.2497, -10.2497, -9.6619, -8.5633, -11.8591, -7.3483, -11.8591, -9.3742, -11.8591, -9.3742, -9.9132, -4.1307, -4.3963, -5.0261, -5.1608, -5.1621, -5.3095, -5.3444, -5.6627, -5.7257, -5.7366, -5.8284, -5.9189, -5.9538, -5.987, -6.0012, -6.0012, -6.0185, -6.039, -6.042, -5.8212, -6.0971, -6.1225, -6.1755, -5.9163, -6.2031, -6.2208, -6.2315, -6.2794, -6.3538, -6.4564, -6.2533, -5.9007, -5.5938, -4.3378, -5.8023, -5.0132, -4.6936, -5.4572, -4.8362, -4.816, -4.7452, -5.7, -4.5196, -4.7875, -5.551, -5.8308, -5.0999, -5.2192, -5.5312, -5.6286, -5.4572, -5.3023, -5.3009, -5.4522, -5.3745, -5.4961, -5.5976, -11.8455, -9.7661, -11.1524, -11.8455, -11.8455, -11.8455, -11.8455, -11.8455, -11.8455, -11.8455, -11.1524, -11.1524, -11.8455, -11.8455, -11.8455, -11.8455, -11.8455, -11.8455, -11.1524, -10.4592, -10.4592, -11.8455, -11.1524, -11.1524, -11.8455, -11.8455, -11.1524, -11.8455, -10.4592, -10.4592, -4.0466, -4.7356, -5.2096, -5.2718, -5.3117, -4.812, -5.5265, -5.5878, -5.5994, -5.6738, -5.7099, -5.7771, -5.8416, -5.8691, -5.9991, -6.0107, -6.0166, -6.0284, -6.1484, -6.2071, -6.2179, -6.2471, -6.2658, -6.2848, -6.2848, -6.3524, -6.3902, -6.4339, -6.4383, -6.5032, -6.3161, -3.5688, -3.959, -4.7579, -5.5783, -5.6949, -4.4178, -5.1374, -4.8343, -5.0701, -5.6033, -5.1062, -4.8516, -5.4206, -4.9053, -4.2136, -5.4271, -4.9559, -5.2621, -5.2525, -5.2175, -5.1313, -5.0793, -5.0577, -4.9806, -5.2511, -5.419, -5.3161, -5.3249], \"loglift\": [30.0, 29.0, 28.0, 27.0, 26.0, 25.0, 24.0, 23.0, 22.0, 21.0, 20.0, 19.0, 18.0, 17.0, 16.0, 15.0, 14.0, 13.0, 12.0, 11.0, 10.0, 9.0, 8.0, 7.0, 6.0, 5.0, 4.0, 3.0, 2.0, 1.0, 1.5576, 1.5576, 1.5576, 1.5576, 1.5576, 1.5576, 1.5576, 1.5576, 1.5576, 1.5576, 1.5576, 1.5576, 1.5576, 1.5576, 1.5576, 1.5576, 1.5576, 1.5576, 1.5576, 1.5576, 1.5576, 1.5576, 1.5576, 1.5576, 1.5576, 1.5576, 1.5576, 1.5576, 1.5576, 1.5576, 1.5576, 1.5576, 1.5565, 1.5576, 1.5576, 1.5576, 1.5576, 1.5559, 1.5576, 1.5576, 1.5576, 1.5576, 1.5576, 1.5576, 1.5576, 1.5576, 1.5576, 1.5576, 1.5527, 1.5576, 1.5576, 1.5576, 1.5576, 1.5576, 1.5576, 1.5576, 1.5576, 1.5576, 1.5576, 1.5576, 1.5537, 1.4988, 1.4781, 1.4355, 1.4999, 1.4583, 1.2176, 1.2113, 1.0149, 1.3493, 1.1236, 1.0177, 0.9006, 0.9797, 0.8737, 0.9006, 0.9546, 0.5655, 0.871, 0.7299, 0.9335, 0.9247, 1.1007, 0.7748, 0.2017, 0.4386, 0.6426, 0.2834, 0.8508, 1.585, 1.585, 1.585, 1.585, 1.585, 1.585, 1.585, 1.585, 1.585, 1.585, 1.585, 1.585, 1.585, 1.585, 1.585, 1.585, 1.585, 1.585, 1.585, 1.585, 1.585, 1.585, 1.585, 1.585, 1.585, 1.585, 1.585, 1.585, 1.585, 1.585, 1.585, 1.585, 1.585, 1.585, 1.585, 1.585, 1.585, 1.585, 1.585, 1.585, 1.585, 1.585, 1.585, 1.5826, 1.585, 1.585, 1.585, 1.585, 1.585, 1.585, 1.585, 1.585, 1.585, 1.585, 1.585, 1.585, 1.585, 1.585, 1.585, 1.585, 1.5816, 1.5472, 1.4479, 1.5332, 1.2406, 1.2582, 1.4239, 1.3547, 1.1604, 1.2929, 1.4285, 1.1623, 1.0159, 0.9741, 1.3451, 0.4053, 0.2498, 0.7148, 0.7321, 0.7891, 0.7352, 0.2955, 0.9905, 0.4423, 0.9847, 0.2878, -0.5674, 0.7454, 0.3475, 0.2179, 1.6194, 1.6194, 1.6194, 1.6194, 1.6194, 1.6194, 1.6194, 1.6194, 1.6194, 1.6194, 1.6194, 1.6194, 1.6194, 1.6194, 1.6194, 1.6194, 1.6194, 1.6194, 1.6194, 1.6194, 1.6194, 1.6194, 1.6194, 1.6194, 1.6194, 1.6194, 1.6194, 1.6194, 1.6194, 1.6194, 1.6194, 1.6194, 1.6194, 1.6194, 1.6194, 1.6194, 1.6194, 1.6194, 1.6194, 1.6194, 1.6181, 1.6194, 1.6194, 1.6194, 1.6194, 1.6194, 1.6194, 1.6194, 1.6194, 1.6194, 1.6161, 1.6194, 1.6194, 1.6194, 1.6194, 1.6194, 1.6114, 1.5481, 1.5829, 1.5115, 1.5573, 1.4587, 1.3627, 1.3408, 1.2454, 1.3114, 1.2227, 1.1113, 1.2313, 1.0945, 1.1028, 0.8479, 1.2272, 0.9439, 0.3865, 0.8272, 0.5743, 0.8846, -0.062, 0.5046, 0.7389, 1.6464, 1.6464, 1.6464, 1.6464, 1.6464, 1.6464, 1.6464, 1.6464, 1.6464, 1.6464, 1.6464, 1.6464, 1.6464, 1.6464, 1.6464, 1.6464, 1.6464, 1.6464, 1.6464, 1.6464, 1.6464, 1.6464, 1.6464, 1.6464, 1.6464, 1.6464, 1.6464, 1.6464, 1.6464, 1.6464, 1.6464, 1.6464, 1.6453, 1.6464, 1.6464, 1.6464, 1.6464, 1.6464, 1.6464, 1.6464, 1.6464, 1.6464, 1.6464, 1.6464, 1.6464, 1.6464, 1.6464, 1.6464, 1.6464, 1.6439, 1.6464, 1.6464, 1.6464, 1.6437, 1.6464, 1.6464, 1.6464, 1.6464, 1.6464, 1.6464, 1.6427, 1.6004, 1.5599, 1.3667, 1.5466, 1.3585, 1.0723, 1.3466, 1.0425, 0.9867, 0.8667, 1.4359, 0.5214, 0.636, 1.2378, 1.4563, 0.4953, 0.53, 0.9891, 1.0285, 0.5985, 0.2125, 0.0424, 0.4681, 0.1703, 0.4022, 0.4448, 1.6417, 1.6417, 1.6417, 1.6417, 1.6417, 1.6417, 1.6417, 1.6417, 1.6417, 1.6417, 1.6417, 1.6417, 1.6417, 1.6417, 1.6417, 1.6417, 1.6417, 1.6417, 1.6417, 1.6417, 1.6417, 1.6417, 1.6417, 1.6417, 1.6417, 1.6417, 1.6417, 1.6417, 1.6417, 1.6417, 1.6417, 1.6417, 1.6417, 1.6417, 1.6403, 1.6348, 1.6417, 1.6417, 1.6417, 1.6417, 1.6417, 1.6417, 1.6417, 1.6417, 1.6417, 1.6417, 1.6417, 1.6417, 1.6417, 1.6417, 1.6417, 1.6417, 1.6417, 1.6417, 1.6417, 1.6417, 1.6417, 1.6417, 1.6417, 1.6417, 1.63, 1.3364, 1.15, 1.2983, 1.4575, 1.4848, 1.1312, 1.3217, 1.2274, 1.2877, 1.4189, 1.2103, 1.0989, 1.3053, 0.9743, 0.5236, 1.2164, 0.7675, 1.0549, 1.014, 0.8069, 0.6152, 0.4355, 0.2741, 0.0604, 0.5979, 0.9518, 0.0693, 0.0184]}, \"token.table\": {\"Topic\": [3, 3, 4, 2, 4, 5, 4, 2, 1, 2, 3, 2, 1, 5, 3, 1, 2, 1, 1, 2, 5, 1, 2, 5, 5, 2, 5, 1, 2, 5, 3, 4, 4, 3, 1, 2, 3, 5, 4, 1, 2, 3, 2, 3, 5, 2, 1, 2, 4, 2, 1, 1, 2, 3, 2, 2, 4, 3, 4, 5, 2, 1, 3, 5, 1, 1, 5, 1, 4, 5, 2, 1, 5, 1, 3, 4, 2, 5, 1, 2, 1, 4, 1, 3, 1, 3, 4, 4, 4, 5, 3, 5, 1, 5, 3, 2, 5, 5, 4, 5, 4, 1, 4, 3, 3, 4, 5, 1, 2, 5, 2, 4, 5, 1, 3, 4, 5, 4, 2, 2, 1, 2, 3, 5, 2, 1, 1, 2, 2, 1, 1, 1, 3, 4, 1, 3, 5, 5, 5, 1, 3, 1, 3, 1, 2, 3, 4, 5, 2, 5, 5, 5, 2, 2, 4, 3, 5, 3, 4, 1, 3, 5, 5, 3, 4, 2, 5, 4, 1, 2, 3, 5, 1, 2, 2, 2, 1, 2, 1, 2, 4, 5, 1, 2, 5, 3, 4, 5, 1, 5, 5, 5, 3, 5, 4, 2, 3, 4, 1, 2, 3, 4, 5, 5, 1, 5, 2, 5, 2, 3, 3, 4, 3, 2, 4, 5, 2, 2, 5, 1, 1, 2, 3, 5, 1, 5, 3, 4, 3, 5, 1, 2, 5, 2, 5, 3, 3, 2, 1, 3, 1, 1, 2, 1, 2, 3, 3, 2, 5, 3, 4, 2, 1, 4, 5, 5, 1, 4, 2, 4, 5, 4, 5, 4, 4, 2, 1, 3, 2, 4, 5, 5, 2, 5, 5, 3, 2, 5, 5, 1, 5, 2, 3, 4, 2, 4, 5, 1, 2, 3, 4, 5, 3, 4, 5, 2, 3, 4, 5, 1, 5, 1, 2, 3, 4, 5, 3, 3, 4, 3, 4, 1, 2, 3, 4, 5, 2, 3, 5, 2, 5, 3, 3, 3, 5, 2, 1, 3, 4, 5, 4, 2, 4, 2, 1, 5, 1, 5, 3, 3, 4, 2, 2, 5, 4, 2, 5, 1, 4, 1, 2, 2, 4, 5, 1, 5, 1, 4, 5, 2, 4, 3, 5, 5, 1, 1, 2, 3, 5, 4, 4, 1, 1, 2, 2, 1, 1, 2, 3, 5, 1, 2, 3, 4, 5, 2, 4, 1, 5, 5, 5, 4, 3, 1, 2, 2, 3, 2, 2, 5, 2, 3, 4, 3, 3, 1, 1, 2, 5, 2, 3, 1, 1, 2, 3, 5, 3, 3, 1, 5, 5, 1, 1, 3, 4, 2, 3, 5, 2, 2, 5, 2, 1, 2, 3, 4, 2, 3, 5, 5, 3, 5, 1, 2, 4, 1, 1, 4, 3, 4, 2, 4, 4, 1, 5, 4, 1, 5, 3, 3, 5, 2, 3, 5, 2, 4, 1, 1, 2, 3, 5, 5, 4, 3, 4, 5, 2, 3, 2, 2, 5, 1, 4, 5, 3, 4, 5, 4, 4, 3, 1, 2, 3, 5, 4, 3, 4, 4, 3, 4, 4, 3, 4, 5, 5, 1, 3, 2, 1, 3, 4, 5, 4, 1, 4, 3, 1, 2, 3, 4, 4, 5, 2, 5, 4, 1, 2, 4, 2, 2, 1, 1, 1, 2, 3, 4, 5, 4, 1, 1, 2, 5, 2, 5, 1, 1, 2, 3, 4, 5, 5, 3, 2, 3, 4, 1, 5, 4, 5, 5, 3, 1, 3, 4, 5, 5, 1, 1, 1, 4, 1, 2, 1, 2, 3, 2, 3, 4, 1, 2, 3, 5, 1, 5, 1, 3, 4, 1, 3, 4, 5, 1, 2, 4, 2, 3, 4, 4, 2, 3, 4, 4], \"Freq\": [0.9985226089834355, 0.6755571091148884, 0.32432889652614666, 0.0018177556844718669, 0.9052423308669897, 0.09270553990806521, 0.8576110014205116, 1.0003549072106865, 0.535905145340871, 0.02780913186633709, 0.4362557561531631, 0.8531637219535283, 0.9984772613353508, 0.0014243612857850938, 1.0002107283561887, 0.8489308599617446, 0.9750442536611751, 1.00084480332332, 0.005899565346642625, 0.0007374456683303281, 0.993339315240952, 0.5031923070209527, 0.3189912242342213, 0.17766139937418476, 0.8421119364105015, 0.7211797728945072, 0.278838087168055, 0.2583681132598191, 0.42618886939555484, 0.315256505170238, 0.08224857051244527, 0.9166977040750718, 0.9987018435896925, 0.9996946237491936, 0.5182432040449861, 0.1082809822976675, 0.3280276816664633, 0.045454850857577, 1.0008372786434891, 1.000028624264069, 0.8551465632435535, 0.1440635678898427, 1.001080652075502, 1.0004045676446296, 1.0001460662093224, 1.137551629271371, 0.2796020802287844, 0.15715951372005105, 0.5633104660417031, 1.0664546524419105, 1.0010977122190383, 0.9985729098533062, 0.8531637219535283, 0.9947450959607995, 0.9983077576385684, 1.000129284795635, 1.0001566992043023, 0.11494115148302772, 0.7498541787226094, 0.13478218358426464, 0.9992306626770895, 0.000501765510976361, 0.3386917199090437, 0.6608251779558675, 1.0187170319540932, 0.9996755921044841, 0.8421119364105015, 0.5612531612598002, 0.08054513729755776, 0.3580597467136886, 0.9996796802829334, 0.707500622228701, 0.292483667981739, 1.000225468667798, 0.9998496414506447, 1.0008562229159117, 0.0012222463994933993, 0.9985753083861072, 1.0611635749521806, 1.137551629271371, 0.0022449948869496575, 0.9967777298056479, 0.14866112270175078, 0.8513292666830364, 0.8489308599617446, 0.9989083706369748, 1.0005461683239303, 1.0001220283627925, 0.9529011126894574, 1.0011775243991516, 0.9959545124908431, 0.9992524412909299, 1.0187170319540932, 1.0000079244874704, 0.9976031026211817, 0.9998717693793995, 1.0004159244566615, 1.0000079244874704, 1.0003699227420517, 0.8421119364105015, 1.0005461683239303, 0.17258871924269495, 0.8270588130045975, 1.000250970187947, 0.7568007575080736, 0.11488054108644526, 0.12831686168135115, 1.0187170319540932, 0.2856561553424757, 0.7146278561980706, 0.2899262620352155, 0.0004990124992000267, 0.709096761363238, 1.00084480332332, 0.46230701668957014, 0.23841335471239766, 0.2993960642003435, 0.9529011126894574, 1.000488385280555, 0.9997042156806263, 0.8489308599617446, 0.2546961839458389, 0.47976541966533265, 0.2656868260298057, 0.9953576756124496, 0.99912631980113, 0.4573477316695824, 0.5431004313576292, 1.0237964663442338, 0.9991531932060038, 0.9993743034992688, 0.9952982496103213, 0.1895008740791417, 0.8108874611758622, 0.9236643028045203, 0.0008358952966556745, 0.0752305766990107, 0.999913092062199, 0.8421119364105015, 0.9829725746925464, 0.9952714161173927, 0.9999425994741701, 1.0066637007971964, 0.10336167695265161, 0.037760612632857245, 0.21632350965941946, 0.4585674398549528, 0.18400298528722808, 0.5660617918655781, 0.43409350050835965, 0.8421119364105015, 0.9997001350370281, 0.8531637219535283, 1.137551629271371, 1.002968798271446, 0.8978883811702996, 0.10240267791292691, 1.000077633116221, 1.0005461683239303, 0.9998519017327211, 0.9312615316002173, 0.06863252666965766, 0.8421119364105015, 0.939440361431981, 0.060238923939149924, 0.41888104024208817, 0.5809561265522637, 0.9999170522724187, 0.3708218467003827, 0.1162237597970613, 0.18614482768874915, 0.32692102353938024, 0.45163234679103037, 0.5487202985004266, 1.0082843986723515, 1.0156710975637242, 0.1495673631109985, 0.8508721101425691, 0.40038412671889323, 0.20119805362758453, 0.12826375918758515, 0.27010838699503226, 0.00385099883815522, 0.7085837862205605, 0.2871744847881464, 0.6015403469730702, 0.20108424774780959, 0.19717019912984735, 1.000131903665506, 0.9997138909901204, 1.00081764750325, 0.8421119364105015, 0.9864147183098962, 1.052639920513127, 1.029133201704614, 1.000897699780979, 0.6725565623254113, 0.3274674965034208, 0.5184610015874332, 0.10349874471987941, 0.061422152240302265, 0.062147610731329454, 0.25463593035054444, 0.8421119364105015, 0.8489308599617446, 0.8421119364105015, 0.9997425111878347, 0.9996292770340484, 1.0000974740677468, 0.998761147590455, 0.9998806258055759, 0.9719591349432466, 0.9959545124908431, 0.655015627916036, 0.34324969012716067, 0.0015357927969895332, 1.0003549072106865, 0.1687942715467248, 0.8320095589625962, 0.9904193366220352, 0.07092920839915008, 0.20111573014442558, 0.07452056072315769, 0.653626122969383, 0.0132108474068032, 0.9875108436585393, 1.0005825539057633, 0.980126858766299, 0.998465159894834, 1.052639920513127, 0.29962133805876556, 0.43202975765544227, 0.2685999368961156, 0.9997425111878347, 1.0006271244407134, 0.9864147183098962, 0.9981901006221356, 1.0237964663442338, 0.5472655357684796, 0.45292187339359635, 0.9983426913150114, 0.0028725568992292094, 0.9967772440325356, 0.9997277890338966, 1.0010454337588066, 1.0020032207009129, 1.0002915534655505, 0.8531637219535283, 1.0001378800332128, 1.0028256583649628, 1.002968798271446, 1.0427556601654233, 1.0611635749521806, 1.029133201704614, 1.0003121556783703, 0.8421119364105015, 0.04444851962028698, 0.9545848737499727, 0.04604478844468834, 0.09822888201533513, 0.8548982387897135, 0.8576110014205116, 1.000337561205794, 0.8576110014205116, 0.999517857770668, 0.8531637219535283, 0.8849623922989337, 0.11493753399659856, 0.2930645950481533, 0.5388019884115116, 0.167465482884659, 1.000209579644657, 0.26315112155935727, 0.7368862840066465, 1.00081764750325, 1.0029661298117152, 1.137551629271371, 1.052639920513127, 1.0000079244874704, 1.0611635749521806, 0.8421119364105015, 0.7865173943365182, 0.20402142935796902, 0.00887049692860735, 0.42771752153185955, 0.30073119177901747, 0.27169168226189466, 0.5811457540762586, 0.04818112846715683, 0.29143325433218564, 0.01955402941037209, 0.05960068164281414, 0.6879236342364358, 0.22860968097287385, 0.08348442538145523, 0.0003756589254200331, 0.7734817274398482, 0.17843798957451573, 0.0477086835283442, 0.4982838205987677, 0.5017014051021885, 0.5309507973026486, 0.0005892905630440051, 0.2704843684371983, 0.09369719952399681, 0.1043044296587889, 1.0000773184130345, 0.9906002224229904, 0.006879168211270767, 1.0012993930945353, 0.8576110014205116, 0.2576528955245943, 0.05297705150084641, 0.15893115450253922, 0.3247330528857343, 0.20576069832069355, 0.30734234646219777, 0.08109347806527763, 0.6115880445973205, 0.27399825508288694, 0.7264313411325586, 0.9999365101989969, 1.000337497776766, 0.9998275058549027, 0.8421119364105015, 0.8531637219535283, 0.15155295577271052, 0.5916688626884102, 0.04949709329950478, 0.20742854047679066, 1.0005461683239303, 1.0010913027761157, 0.9846644831124393, 1.0004588039948323, 0.5827798338926088, 0.41714013893111224, 0.9948093852011621, 0.003316031284003874, 0.9998318606560536, 0.25926573816222714, 0.7409098127156328, 0.8531637219535283, 1.137551629271371, 0.9996639245134465, 0.99985898002151, 1.0237964663442338, 0.8421119364105015, 0.7116577681263675, 0.2880722462595356, 0.9427310410927857, 0.05717459105180231, 0.6540846967657354, 0.0005058659681096175, 0.3455064562188688, 0.9904193366220352, 0.8421119364105015, 0.9058740414268375, 0.011163940651387082, 0.08293213055316118, 0.9750442536611751, 0.8576110014205116, 1.000009882828406, 0.8421119364105015, 0.8421119364105015, 0.9996594004039318, 0.9550472174569626, 0.06084945165660076, 0.2900058972569909, 0.649276595867772, 0.9999327126719842, 0.999729395941625, 1.131907813282326, 0.9449079297089116, 0.056194964982688576, 0.9993232440411844, 1.0032819254093346, 0.21674677536214929, 0.09113216691363095, 0.15824977632975104, 0.533862085906203, 0.16686573042455863, 0.19070369191378128, 0.12839042416125188, 0.0008364197013762337, 0.5131434867943194, 1.0005689723434048, 0.9998897496469915, 1.000262013259273, 0.8421119364105015, 0.8421119364105015, 0.9999647481166536, 1.0005461683239303, 1.0005781152169253, 0.0020169117385610016, 0.9983713105876957, 1.013131919819815, 0.9995521533910158, 0.9983077576385684, 0.19928044041427523, 0.7997438727151834, 1.000897699780979, 0.9991282492129459, 0.8576110014205116, 0.9981901006221356, 1.0002107283561885, 0.8489308599617446, 0.6328723696575066, 0.14971174335984028, 0.21691190089067766, 0.9750442536611751, 0.9976944749515189, 1.000011775717648, 0.9998913685323477, 0.8531637219535283, 0.9981901006221356, 1.0004577706073479, 0.9981901006221356, 0.9999831491233429, 1.0032819254093346, 1.0003611593601258, 1.0015240725211314, 1.0611635749521806, 0.003174993866086776, 0.4786303253125815, 0.5183177486386662, 0.7946476679705105, 0.14016024818498266, 0.06459559264177461, 1.000150730230166, 0.746176987844679, 0.25302544135690574, 1.0237964663442338, 0.5046542672044245, 0.27547179590670234, 0.19823906408628442, 0.021635227806371143, 0.2734391371766954, 0.12650316126526237, 0.6000636889470996, 1.0002750919799865, 0.9637598267181037, 0.03556309323683039, 0.9949628819712464, 0.004171752125665603, 1.0720137517756396, 1.0009487116293128, 0.9991027449369266, 0.980126858766299, 0.998465159894834, 1.0005461683239303, 0.0031413722579317275, 0.9958150057643576, 0.9985470750805258, 0.9988939257459765, 0.0009089116703785045, 1.002968798271446, 0.6477758817315055, 0.35207856314523905, 0.9994262493535563, 0.9981901006221356, 0.8421119364105015, 0.28694141565267495, 0.15674903518724004, 0.5563943025861124, 0.0009231498270452684, 0.9988481128629804, 0.999880572143392, 0.16710924546337777, 0.45114157321582815, 0.048050581762632584, 0.3336845955738374, 1.0009444368722686, 1.002968798271446, 1.0014736206899717, 0.9984604834180337, 0.002041841479382482, 0.8531637219535283, 1.001360395860046, 0.9995812583943977, 0.298220166297511, 0.70169450893532, 0.24397531139484138, 0.7561479435172495, 0.8421119364105015, 1.0066637007971964, 0.999729395941625, 0.8421119364105015, 1.0000067903356153, 0.999793877971807, 1.0001445768529902, 0.9904193366220352, 0.9993232440411844, 0.7349297329094725, 0.26517122259067205, 1.0010548343983197, 0.3353547277005348, 0.6644799558153012, 0.9989754522041124, 0.9906849118956534, 1.00054616832393, 0.999715149911701, 0.5964424016254113, 0.1973069281738094, 0.20593910628141357, 1.052639920513127, 1.0187170319540932, 1.0066637007971964, 1.137551629271371, 0.9985729098533062, 0.6782610294766744, 0.1669704463781567, 0.15478611650731824, 0.9994873893098309, 0.8489308599617446, 1.0005461683239303, 0.9864147183098962, 1.0032819254093346, 0.8531637219535283, 0.9978121414776365, 0.8576110014205116, 0.8576110014205116, 0.8421119364105015, 0.9620313624762928, 0.03707625940578005, 1.000143534050963, 0.12813495366971434, 0.8719623891234649, 0.9940491152828658, 1.0001841022379483, 0.8531637219535283, 0.9904193366220352, 1.0009781781638478, 0.05380702200129976, 0.13040913706718957, 0.351733587171058, 0.36419137059007817, 0.10019238579552368, 0.9940491152828658, 0.9995762108944132, 0.32242547247171244, 0.5520189323037544, 0.12598630286812415, 0.9990036744242168, 0.8421119364105015, 1.0187170319540932, 0.2282712760839301, 0.07667126830299943, 0.09583908537874929, 0.30799196983079885, 0.29143794599265127, 0.9473759284618142, 0.9976944749515189, 0.0027871530201390568, 0.9978007812097823, 0.9529011126894574, 0.8489308599617446, 0.8421119364105015, 0.9973698312816321, 1.000715978245663, 1.0010009810162563, 1.000151456609323, 0.493576859921759, 0.25353128323849916, 0.16587419062944359, 0.0869828072812936, 0.8421119364105015, 1.0032819254093346, 0.8489308599617446, 0.8119526349905795, 0.18850928308872195, 1.131907813282326, 0.9994846769059802, 0.04765359630781979, 0.9506892463410048, 0.0023826798153909895, 1.0000453883704359, 0.9982753774771618, 0.0010862626523146482, 0.21775447462260264, 0.007807929368937943, 0.5088167305424559, 0.26590337239771994, 1.0013919123630375, 1.0006914569033882, 0.32645581564281817, 0.1564509484219437, 0.5169851884735022, 0.4371076696632605, 0.05035077548316896, 0.316265808503655, 0.19605333203758912, 1.0013030655959037, 0.9995812583943977, 0.9999109009154706, 0.1616062324412756, 0.4878114053319985, 0.3506456216241257, 0.8576110014205116, 0.038863666269641224, 0.4145457735428398, 0.546598661082696, 0.8576110014205116], \"Term\": [\"abroad\", \"accept\", \"accept\", \"act\", \"act\", \"act\", \"adirondack\", \"agent\", \"agree\", \"agree\", \"agree\", \"anubis\", \"apartment\", \"apartment\", \"apologise\", \"appropriateness\", \"archive\", \"argue\", \"arrest\", \"arrest\", \"arrest\", \"arrive\", \"arrive\", \"arrive\", \"asuragana\", \"attack\", \"attack\", \"attempt\", \"attempt\", \"attempt\", \"attend\", \"attend\", \"audience\", \"baby\", \"back\", \"back\", \"back\", \"back\", \"band\", \"bar\", \"base\", \"base\", \"battle\", \"bear\", \"beat\", \"beetle\", \"begin\", \"begin\", \"begin\", \"biblical\", \"bill\", \"billy\", \"blending\", \"blossom\", \"boat\", \"bomb\", \"book\", \"boy\", \"boy\", \"boy\", \"british\", \"brother\", \"brother\", \"brother\", \"burlesque\", \"buy\", \"cader\", \"call\", \"call\", \"call\", \"capture\", \"car\", \"car\", \"card\", \"care\", \"career\", \"case\", \"case\", \"castor\", \"chapman\", \"character\", \"character\", \"child\", \"child\", \"childaudience\", \"childhood\", \"class\", \"club\", \"consternation\", \"cop\", \"cope\", \"corrupt\", \"coupon\", \"court\", \"cousin\", \"crew\", \"crime\", \"criminal\", \"dance\", \"danceking\", \"dancer\", \"date\", \"date\", \"daughter\", \"day\", \"day\", \"day\", \"daze\", \"dead\", \"dead\", \"death\", \"death\", \"death\", \"debt\", \"decide\", \"decide\", \"decide\", \"declaration\", \"defeat\", \"destroy\", \"devyani\", \"die\", \"die\", \"die\", \"dignitary\", \"dinner\", \"discover\", \"discover\", \"disenchanted\", \"dog\", \"door\", \"dorothy\", \"dream\", \"dream\", \"drive\", \"drive\", \"drive\", \"drug\", \"easwari\", \"embezzle\", \"emotion\", \"employee\", \"employment\", \"end\", \"end\", \"end\", \"end\", \"end\", \"escape\", \"escape\", \"espresso\", \"evidence\", \"eviscerating\", \"excavate\", \"extend\", \"fall\", \"fall\", \"family\", \"famous\", \"farm\", \"father\", \"father\", \"fearlessness\", \"feeling\", \"feeling\", \"fight\", \"fight\", \"film\", \"find\", \"find\", \"find\", \"find\", \"fire\", \"fire\", \"flare\", \"flush\", \"fly\", \"fly\", \"follow\", \"follow\", \"follow\", \"follow\", \"force\", \"force\", \"force\", \"friend\", \"friend\", \"friend\", \"game\", \"gang\", \"gangster\", \"garruci\", \"gautham\", \"gemini\", \"gena\", \"ghost\", \"girl\", \"girl\", \"give\", \"give\", \"give\", \"give\", \"give\", \"godfrey\", \"godparent\", \"godspeed\", \"gold\", \"goon\", \"government\", \"gradually\", \"grandfather\", \"grandma\", \"grief\", \"group\", \"group\", \"group\", \"guard\", \"gun\", \"gun\", \"gust\", \"hand\", \"hand\", \"hand\", \"hand\", \"hang\", \"hang\", \"happy\", \"harmless\", \"hate\", \"hazen\", \"head\", \"head\", \"head\", \"helicopter\", \"henchman\", \"hesitate\", \"hilarious\", \"holdout\", \"home\", \"home\", \"horse\", \"hostage\", \"hostage\", \"hotel\", \"human\", \"hurt\", \"husband\", \"hypothesize\", \"identity\", \"illness\", \"image\", \"imhotep\", \"incorrectly\", \"indie\", \"inspector\", \"institutionalise\", \"interest\", \"interest\", \"involve\", \"involve\", \"involve\", \"irascible\", \"jail\", \"jango\", \"jealous\", \"jhawle\", \"job\", \"job\", \"join\", \"join\", \"join\", \"kidnap\", \"kill\", \"kill\", \"killer\", \"kind\", \"kingpin\", \"km\", \"krishna\", \"laced\", \"ladda\", \"land\", \"land\", \"land\", \"lead\", \"lead\", \"lead\", \"leave\", \"leave\", \"leave\", \"leave\", \"leave\", \"life\", \"life\", \"life\", \"live\", \"live\", \"live\", \"live\", \"local\", \"local\", \"lose\", \"lose\", \"lose\", \"lose\", \"lose\", \"love\", \"lover\", \"lover\", \"lucky\", \"maharaj\", \"make\", \"make\", \"make\", \"make\", \"make\", \"man\", \"man\", \"man\", \"manage\", \"manage\", \"marriage\", \"married\", \"marry\", \"meaninglessly\", \"medjai\", \"meet\", \"meet\", \"meet\", \"meet\", \"merit\", \"military\", \"misadventure\", \"mission\", \"money\", \"money\", \"morning\", \"morning\", \"mother\", \"movie\", \"movie\", \"mps\", \"mummify\", \"murder\", \"music\", \"namun\", \"neutralised\", \"night\", \"night\", \"offer\", \"offer\", \"order\", \"order\", \"order\", \"otis\", \"overhears\", \"owner\", \"owner\", \"owner\", \"ozunu\", \"packaging\", \"parent\", \"parlor_manag\", \"paruchuri\", \"pay\", \"penalty\", \"people\", \"people\", \"people\", \"perform\", \"performance\", \"petree\", \"pick\", \"pick\", \"pilot\", \"pink\", \"place\", \"place\", \"place\", \"place\", \"plan\", \"plan\", \"plan\", \"plan\", \"plan\", \"plane\", \"play\", \"player\", \"pledging\", \"po\", \"police\", \"polite\", \"poor\", \"power\", \"power\", \"preacher\", \"pregnant\", \"prevent\", \"prison\", \"prison\", \"prisoner\", \"priya\", \"probert\", \"profess\", \"propose\", \"punxatawney\", \"put\", \"put\", \"put\", \"pyramid\", \"quality\", \"quit\", \"race\", \"racketeering\", \"railway\", \"raju\", \"rakesh\", \"ram\", \"ranch\", \"rape\", \"ravi\", \"refresh\", \"relationship\", \"relationship\", \"relationship\", \"remain\", \"remain\", \"remain\", \"remove\", \"rescue\", \"rescue\", \"resurrection\", \"return\", \"return\", \"return\", \"return\", \"reveal\", \"reveal\", \"reveal\", \"revenge\", \"rich\", \"rich\", \"ride\", \"ride\", \"riotous\", \"rise\", \"road\", \"rocker\", \"rohit\", \"role\", \"romance\", \"romance\", \"romantic\", \"room\", \"room\", \"rumor\", \"run\", \"run\", \"sad\", \"sake\", \"saun\", \"save\", \"save\", \"save\", \"school\", \"school\", \"sell\", \"send\", \"send\", \"send\", \"send\", \"sentence\", \"session\", \"settle\", \"sex\", \"sex\", \"shao\", \"shekhar\", \"ship\", \"shoot\", \"shoot\", \"show\", \"show\", \"shyloo\", \"simran\", \"sing\", \"singamuthu\", \"singe\", \"singer\", \"sister\", \"smokey\", \"soldier\", \"son\", \"son\", \"song\", \"spend\", \"spend\", \"spending\", \"srinu\", \"stage\", \"star\", \"start\", \"start\", \"start\", \"staunchly\", \"steak\", \"stepmother\", \"stockade\", \"store\", \"story\", \"story\", \"story\", \"student\", \"stunted\", \"success\", \"suicidal\", \"suitcase\", \"sumitradevi\", \"sunny\", \"superconductor\", \"supreme\", \"surrogacy\", \"survive\", \"survive\", \"teacher\", \"team\", \"team\", \"temporary\", \"terrorist\", \"thendral\", \"thinly\", \"ticket\", \"time\", \"time\", \"time\", \"time\", \"time\", \"today\", \"town\", \"train\", \"train\", \"train\", \"training\", \"troggs\", \"trust_fund\", \"turn\", \"turn\", \"turn\", \"turn\", \"turn\", \"udhay\", \"uma\", \"understand\", \"understand\", \"usher\", \"vandalism\", \"venkateswararao\", \"version\", \"victim\", \"vijay\", \"village\", \"visit\", \"visit\", \"visit\", \"visit\", \"visnu\", \"waitress\", \"waken\", \"walk\", \"walk\", \"walter\", \"war\", \"water\", \"water\", \"water\", \"weapon\", \"wedding\", \"wedding\", \"wife\", \"wife\", \"wife\", \"wife\", \"window\", \"witness\", \"woman\", \"woman\", \"woman\", \"work\", \"work\", \"work\", \"work\", \"worker\", \"wound\", \"write\", \"year\", \"year\", \"year\", \"yonker\", \"young\", \"young\", \"young\", \"zetterle\"]}, \"R\": 30, \"lambda.step\": 0.01, \"plot.opts\": {\"xlab\": \"PC1\", \"ylab\": \"PC2\"}, \"topic.order\": [1, 2, 3, 4, 5]};\n",
       "\n",
       "function LDAvis_load_lib(url, callback){\n",
       "  var s = document.createElement('script');\n",
       "  s.src = url;\n",
       "  s.async = true;\n",
       "  s.onreadystatechange = s.onload = callback;\n",
       "  s.onerror = function(){console.warn(\"failed to load library \" + url);};\n",
       "  document.getElementsByTagName(\"head\")[0].appendChild(s);\n",
       "}\n",
       "\n",
       "if(typeof(LDAvis) !== \"undefined\"){\n",
       "   // already loaded: just create the visualization\n",
       "   !function(LDAvis){\n",
       "       new LDAvis(\"#\" + \"ldavis_el335021122447083603664867580\", ldavis_el335021122447083603664867580_data);\n",
       "   }(LDAvis);\n",
       "}else if(typeof define === \"function\" && define.amd){\n",
       "   // require.js is available: use it to load d3/LDAvis\n",
       "   require.config({paths: {d3: \"https://cdnjs.cloudflare.com/ajax/libs/d3/3.5.5/d3.min\"}});\n",
       "   require([\"d3\"], function(d3){\n",
       "      window.d3 = d3;\n",
       "      LDAvis_load_lib(\"https://cdn.rawgit.com/bmabey/pyLDAvis/files/ldavis.v1.0.0.js\", function(){\n",
       "        new LDAvis(\"#\" + \"ldavis_el335021122447083603664867580\", ldavis_el335021122447083603664867580_data);\n",
       "      });\n",
       "    });\n",
       "}else{\n",
       "    // require.js not available: dynamically load d3 & LDAvis\n",
       "    LDAvis_load_lib(\"https://cdnjs.cloudflare.com/ajax/libs/d3/3.5.5/d3.min.js\", function(){\n",
       "         LDAvis_load_lib(\"https://cdn.rawgit.com/bmabey/pyLDAvis/files/ldavis.v1.0.0.js\", function(){\n",
       "                 new LDAvis(\"#\" + \"ldavis_el335021122447083603664867580\", ldavis_el335021122447083603664867580_data);\n",
       "            })\n",
       "         });\n",
       "}\n",
       "</script>"
      ],
      "text/plain": [
       "PreparedData(topic_coordinates=          x     y  topics  cluster  Freq\n",
       "topic                                   \n",
       "0     0.06  -0.23  1       1       21.06\n",
       "1     0.26  0.01   2       1       20.49\n",
       "2     -0.23 0.22   3       1       19.80\n",
       "3     -0.24 -0.15  4       1       19.28\n",
       "4     0.15  0.15   5       1       19.36, topic_info=       Term    Freq   Total Category  logprob  loglift\n",
       "131  love   6342.00 6342.00  Default 30.00    30.00   \n",
       "40   kill   6334.00 6334.00  Default 29.00    29.00   \n",
       "23   family 4045.00 4045.00  Default 28.00    28.00   \n",
       "207  police 2895.00 2895.00  Default 27.00    27.00   \n",
       "674  film   2649.00 2649.00  Default 26.00    26.00   \n",
       "..    ...       ...     ...      ...   ...      ...   \n",
       "201  make   1137.62 5530.70  Topic5  -4.98    0.06    \n",
       "148  run    868.06  2465.36  Topic5  -5.25    0.60    \n",
       "200  local  733.87  1463.02  Topic5  -5.42    0.95    \n",
       "46   meet   813.43  3919.42  Topic5  -5.32    0.07    \n",
       "248  friend 806.31  4087.84  Topic5  -5.32    0.02    \n",
       "\n",
       "[466 rows x 6 columns], token_table=       Topic  Freq      Term\n",
       "term                        \n",
       "3162   3     1.00   abroad  \n",
       "1064   3     0.68   accept  \n",
       "1064   4     0.32   accept  \n",
       "386    2     0.00   act     \n",
       "386    4     0.91   act     \n",
       "...   ..      ...   ...     \n",
       "16373  4     0.86   yonker  \n",
       "160    2     0.04   young   \n",
       "160    3     0.41   young   \n",
       "160    4     0.55   young   \n",
       "16288  4     0.86   zetterle\n",
       "\n",
       "[602 rows x 3 columns], R=30, lambda_step=0.01, plot_opts={'xlab': 'PC1', 'ylab': 'PC2'}, topic_order=[1, 2, 3, 4, 5])"
      ]
     },
     "execution_count": 52,
     "metadata": {},
     "output_type": "execute_result"
    }
   ],
   "source": [
    "pyLDAvis.enable_notebook()\n",
    "vis = pyLDAvis.gensim.prepare(model, corpus, id2word, sort_topics=False)\n",
    "# vis = pyLDAvis.prepared_data_to_html(vis)\n",
    "# with open(\"LDA_output.html\", \"w\") as file:\n",
    "#     file.write(vis)\n",
    "vis\n",
    "# Action, comedy, drama, romance, and musical\n"
   ]
  },
  {
   "cell_type": "markdown",
   "metadata": {},
   "source": [
    "### Find the most representative document for each topic"
   ]
  },
  {
   "cell_type": "code",
   "execution_count": 59,
   "metadata": {
    "scrolled": false
   },
   "outputs": [],
   "source": [
    "# Group top 5 sentences under each topic\n",
    "sent_topics_sorteddf_mallet = pd.DataFrame()\n",
    "\n",
    "sent_topics_outdf_grpd = df_dominant_topic.groupby('Dominant_Topic')\n",
    "\n",
    "for i, grp in sent_topics_outdf_grpd:\n",
    "    sent_topics_sorteddf_mallet = pd.concat([sent_topics_sorteddf_mallet, \n",
    "                                             grp.sort_values(['Topic_Perc_Contrib'], ascending=[0]).head(5)], \n",
    "                                            axis=0)\n",
    "\n",
    "# Reset Index    \n",
    "sent_topics_sorteddf_mallet.reset_index(drop=True, inplace=True)\n",
    "\n",
    "# Format\n",
    "#sent_topics_sorteddf_mallet.columns = ['Topic_Num', \"Topic_Perc_Contrib\", \"Keywords\", \"Text\", \"abstract\"]\n",
    "\n",
    "# Show\n",
    "#sent_topics_sorteddf_mallet[sent_topics_sorteddf_mallet['Dominant_Topic'] == 4]"
   ]
  },
  {
   "cell_type": "code",
   "execution_count": 68,
   "metadata": {
    "collapsed": true
   },
   "outputs": [
    {
     "data": {
      "text/html": [
       "<div>\n",
       "<style scoped>\n",
       "    .dataframe tbody tr th:only-of-type {\n",
       "        vertical-align: middle;\n",
       "    }\n",
       "\n",
       "    .dataframe tbody tr th {\n",
       "        vertical-align: top;\n",
       "    }\n",
       "\n",
       "    .dataframe thead th {\n",
       "        text-align: right;\n",
       "    }\n",
       "</style>\n",
       "<table border=\"1\" class=\"dataframe\">\n",
       "  <thead>\n",
       "    <tr style=\"text-align: right;\">\n",
       "      <th></th>\n",
       "      <th>Document_No</th>\n",
       "      <th>Dominant_Topic</th>\n",
       "      <th>Topic_Perc_Contrib</th>\n",
       "      <th>Keywords</th>\n",
       "      <th>Text</th>\n",
       "      <th>abstract</th>\n",
       "    </tr>\n",
       "  </thead>\n",
       "  <tbody>\n",
       "    <tr>\n",
       "      <th>0</th>\n",
       "      <td>2897</td>\n",
       "      <td>0.00</td>\n",
       "      <td>0.61</td>\n",
       "      <td>leave, find, give, return, back, night, money, run, job, call</td>\n",
       "      <td>[find, hit, player, strike, season, still, need, finish, sentinel, call, former, coach, tell, mcginty, rest, team, go, finish, final, game, season, replacement, player, ask, mcginty, coach, sentinel, rest, season, pressure, win, last, game, make, playoff, mcginty, accept, condition, also, give, freedom, sign, player, want, neil, allow, interfere, neil, accept, request, mcginty, build, team, different, varying, player, believe, make, win, team, choose, former, career, go, piece, horrendous, game, live, houseboat, initially, refuse, mcginty, convince, believe, still, player, mean, replacement, player, greet, first, practice, hostilely, strike, player, call, replacement, throw, arrive, late, get, truck, turn, find, new, cheerleader, original, apparently, go, strike, reluctantly, hire, stripper, tryout, go, terribly, bad, practice, drive, surprise, vast, football, knowledge, replacement, game, team, initially, struggle, get, cause, sentinel, fall, early, try, team, back, last, play, panic, see, pende, blitz, call, audible, fall, berate, tell, winner, always, want, ball, game, line, local, bar, several, replacement, lament, loss, several, strike, player, lead, quarterback, taunt, replacement, stand, follow, lead, replacement, arrest, build, bond, process, dance, together, cell, mcginity, meet, hear, happen, tell, first, quarterback, see, long, time, selfless, connection, start, grow, sentinel, next, game, fall, able, come, together, time, win, player, name, meet, run, use, admit, raise, football, share, short, conversation, beer, together, consummate, feeling, share, deep, kiss, sentinel, nearly, lose, next, game, road, win, couple, improbable, play, sentinel, tell, cross, picket, line, point, entire, team, league, defend, champion, sentinel, next, opponent, dalla, cross, well, neil, show, confidence, able, beat, hint, mcginity, could, fire, mcginty, refuse, give, reluctantly, tell, tell, teammate, thing, demoralizing, team, toast, teammate, unable, face, happen, leave, stand, plan, date, first, final, crucial, game, deliberately, throw, game, replacement, player, also, smugly, ignore, play, call, mcginty, make, cause, sentinel, fall, hometown, fan, initially, despise, replacement, accept, favorite, way, tell, tv, reporter, team, need, heart, come, back, win, earlier, say, watch, television, return, mcginty, promptly, bench, angrily, tell, never, know, replacement, player, say, live, rest, team, throw, field, find, apologize, give, deep, kiss, front, crowd, cheerleader, tell, replacement, strike, officially, end, next_day, give, player, incentive, give, left, sentinel, rally, back, score, call, game, field, goal, late, game, however, owe, realize, want, throw, game, take, pub, compensation, hint, pull, ball, away, cause, fall, momentum, initially, score, apparent, call, sentinel, penalty, unable, continue, tell, mcginty, want, ball, affirm, mcginty, tell, call, deep, pass, replacement, deaf, tight, end, pass, time, expire, earn, sentinel, playoff, celebrate, mcginty, narrate, replacement, player, leave, field, satisfaction, personal, glory, accomplish, live, athlete, dream, second, chance, watch, replacement]</td>\n",
       "      <td>A fictional pro football league finds themselves hit with a players' strike with the season still needing to be finished. Washington Sentinels[1][2] owner Edward O'Neil calls a former coach of his, Jimmy McGinty, telling McGinty that he and the rest of the teams are going to finish the final four games of the season with replacement players. O'Neil asks McGinty to coach the Sentinels the rest of the season, along with the pressure of winning three of the last four games to make the playoffs. McGinty accepts, on the condition that he will also be given the freedom to sign the players he wants with O'Neil not allowed to interfere.\\r\\nWith O'Neil accepting his requests, McGinty builds his team of different varying players that he believes can make a winning team. As his quarterback, McGinty chooses Shane Falco, a former All-American from Ohio State whose career went to pieces after a horrendous Sugar Bowl game, and now lives in a houseboat near the Sentinels' stadium. Falco initially refuses, but McGinty convinces him, believing that Falco can still be the player he was meant to be. The replacement players are greeted to their first practice hostilely by the striking players, calling the replacements \"scabs\", and throwing eggs at them, and Falco, who arrives late, gets his truck turned over. Head cheerleader Annabelle Ferrell, who has to find new cheerleaders since the originals apparently went on strike as well, reluctantly hires strippers when the other tryouts go terribly bad. After practice, Annabelle drives Falco home and surprises him with her vast football knowledge.\\r\\nThe replacements' first game is against Detroit, and the team initially struggles to get along, causing the Sentinels to fall behind early. Falco tries to rally the team back, but on the last play, he panics when he sees a pending blitz and calls an audible, which falls short of the winning touchdown. McGinty berates Falco for what he did, telling him that \"winners always want the ball when the game's on the line.\" At a local bar, several of the replacements lament over their loss, when several of the striking players, led by their prima donna quarterback Eddie Martel, arrive and taunt the replacements. When Falco stands up to Martel, a brawl follows, leading to the replacements being arrested, but they build a bond in the process, dancing together in their cell before McGinity bails them out. Annabelle meets Shane the next day, having heard what happened, and tells him that he's the first quarterback she's seen in a long time be so selfless, and a connection starts to grow with the two of them.\\r\\nIn the Sentinels' next game against San Diego, they fall behind again but are able to come together once again, and this time win, on a 65-yard field goal by their kicker, a Welsh soccer player named Nigel Gruff. Falco meets Annabelle again, where she runs a bar her father used to own and admits that she was raised with football. After sharing a short conversation and having a beer together, they consummate their feelings for one another, sharing a deep kiss. The Sentinels nearly lose their next game on the road against Phoenix, but win on a couple of improbable plays.\\r\\nWhen the Sentinels return to DC, O'Neil tells McGinty that Eddie Martel has crossed the picket line, and points out that the entire team of the league's defending champions, and the Sentinels' next opponent, Dallas, have crossed as well. O'Neil shows no confidence in Falco being able to beat Dallas, and hints to McGinity that he could be fired if McGinty refuses to start Martel. McGinty gives in and reluctantly tells Falco, who then tells his teammates the same thing, demoralizing the team. Falco is toasted by his teammates, but unable to face Annabelle after what happened, Falco leaves her stood up for their planned date.\\r\\nIn the first half of the final crucial game, Martel deliberately throws the game to humiliate the replacement players, and also smugly ignores any play calls McGinty makes, causing the Sentinels fall behind to Dallas 17–0. The hometown fans, who had initially despised the replacements, now boo Martel, having accepted Falco as their favorite. On the way to the locker room for halftime, McGinty tells a TV reporter that the team needs \"heart\" to come back and win, something he had earlier said Falco had. Falco, watching this on television, returns to the stadium, and McGinty promptly benches Martel for Falco. Martel angrily tells Falco that he will never be known as anything but a replacement player. Falco says he can live with that and the rest of the team throws Martel out of the stadium. On his way back to the field, Falco finds Annabelle and apologizes to her, giving her another deep kiss in front of the crowd and other cheerleaders.\\r\\nMcGinty tells the replacements that the strike will officially end the next day, giving the players incentive to give everything they have left. The Sentinels rally back to a 17-14 score, with Gruff being called to kick the game-tying field goal late in the game. However, Gruff spots bookies that he owes money to in the crowd, and realizes that they want him to throw the game or they'll take his pub from him as compensation. He hints this to Falco just before the kick, and Falco pulls the ball away, causing Gruff to fall from the momentum of his kicking motion and break his arm. Falco initially scores the apparent winning touchdown, but it's called back on a Sentinels penalty. With Gruff unable to continue, Falco tells McGinty that he \"wants the ball\", affirming what McGinty had told him before. Falco calls for a deep pass to the replacements' deaf tight end, Brian Murphy, and hits him with the game-winning touchdown pass as time expires, earning the Sentinels a playoff berth. Falco celebrates with Annabelle, while McGinty narrates that the replacement players left the field with nothing but the satisfaction and personal glory of what they've accomplished, which is living the athlete's dream of a \"second chance.\" He then watches the replacements dance on the field to the Gloria Gaynor song \"I Will Survive\".</td>\n",
       "    </tr>\n",
       "  </tbody>\n",
       "</table>\n",
       "</div>"
      ],
      "text/plain": [
       "   Document_No  Dominant_Topic  Topic_Perc_Contrib                                                       Keywords  \\\n",
       "0  2897        0.00            0.61                 leave, find, give, return, back, night, money, run, job, call   \n",
       "\n",
       "                                                                                                                                                                                                                                                                                                                                                                                                                                                                                                                                                                                                                                                                                                                                                                                                                                                                                                                                                                                                                                                                                                                                                                                                                                                                                                                                                                                                                                                                                                                                                                                                                                                                                                                                                                                                                                                                                                                                                                                                                                                                                                                                                                                                                                                                                                                                                                                                                                                                                                                                                                                                                                                                                                                                                                                                                                                                                                                                                                                                                                                                                                                                                                                                                                                                                        Text  \\\n",
       "0  [find, hit, player, strike, season, still, need, finish, sentinel, call, former, coach, tell, mcginty, rest, team, go, finish, final, game, season, replacement, player, ask, mcginty, coach, sentinel, rest, season, pressure, win, last, game, make, playoff, mcginty, accept, condition, also, give, freedom, sign, player, want, neil, allow, interfere, neil, accept, request, mcginty, build, team, different, varying, player, believe, make, win, team, choose, former, career, go, piece, horrendous, game, live, houseboat, initially, refuse, mcginty, convince, believe, still, player, mean, replacement, player, greet, first, practice, hostilely, strike, player, call, replacement, throw, arrive, late, get, truck, turn, find, new, cheerleader, original, apparently, go, strike, reluctantly, hire, stripper, tryout, go, terribly, bad, practice, drive, surprise, vast, football, knowledge, replacement, game, team, initially, struggle, get, cause, sentinel, fall, early, try, team, back, last, play, panic, see, pende, blitz, call, audible, fall, berate, tell, winner, always, want, ball, game, line, local, bar, several, replacement, lament, loss, several, strike, player, lead, quarterback, taunt, replacement, stand, follow, lead, replacement, arrest, build, bond, process, dance, together, cell, mcginity, meet, hear, happen, tell, first, quarterback, see, long, time, selfless, connection, start, grow, sentinel, next, game, fall, able, come, together, time, win, player, name, meet, run, use, admit, raise, football, share, short, conversation, beer, together, consummate, feeling, share, deep, kiss, sentinel, nearly, lose, next, game, road, win, couple, improbable, play, sentinel, tell, cross, picket, line, point, entire, team, league, defend, champion, sentinel, next, opponent, dalla, cross, well, neil, show, confidence, able, beat, hint, mcginity, could, fire, mcginty, refuse, give, reluctantly, tell, tell, teammate, thing, demoralizing, team, toast, teammate, unable, face, happen, leave, stand, plan, date, first, final, crucial, game, deliberately, throw, game, replacement, player, also, smugly, ignore, play, call, mcginty, make, cause, sentinel, fall, hometown, fan, initially, despise, replacement, accept, favorite, way, tell, tv, reporter, team, need, heart, come, back, win, earlier, say, watch, television, return, mcginty, promptly, bench, angrily, tell, never, know, replacement, player, say, live, rest, team, throw, field, find, apologize, give, deep, kiss, front, crowd, cheerleader, tell, replacement, strike, officially, end, next_day, give, player, incentive, give, left, sentinel, rally, back, score, call, game, field, goal, late, game, however, owe, realize, want, throw, game, take, pub, compensation, hint, pull, ball, away, cause, fall, momentum, initially, score, apparent, call, sentinel, penalty, unable, continue, tell, mcginty, want, ball, affirm, mcginty, tell, call, deep, pass, replacement, deaf, tight, end, pass, time, expire, earn, sentinel, playoff, celebrate, mcginty, narrate, replacement, player, leave, field, satisfaction, personal, glory, accomplish, live, athlete, dream, second, chance, watch, replacement]   \n",
       "\n",
       "                                                                                                                                                                                                                                                                                                                                                                                                                                                                                                                                                                                                                                                                                                                                                                                                                                                                                                                                                                                                                                                                                                                                                                                                                                                                                                                                                                                                                                                                                                                                                                                                                                                                                                                                                                                                                                                                                                                                                                                                                                                                                                                                                                                                                                                                                                                                                                                                                                                                                                                                                                                                                                                                                                                                                                                                                                                                                                                                                                                                                                                                                                                                                                                                                                                                                                                                                                                                                                                                                                                                                                                                                                                                                                                                                                                                                                                                                                                                                                                                                                                                                                                                                                                                                                                                                                                                                                                                                                                                                                                                                                                                                                                                                                                                                                                                                                                                                                                                                                                                                                                                                                                                                                                                                                                                                                                                                                                                                                                                                                                                                                                                                                                                                                                                                                                                                                                                                                                                                                                                                                                                                                                                                                                                                                                                                                                                                       abstract  \n",
       "0  A fictional pro football league finds themselves hit with a players' strike with the season still needing to be finished. Washington Sentinels[1][2] owner Edward O'Neil calls a former coach of his, Jimmy McGinty, telling McGinty that he and the rest of the teams are going to finish the final four games of the season with replacement players. O'Neil asks McGinty to coach the Sentinels the rest of the season, along with the pressure of winning three of the last four games to make the playoffs. McGinty accepts, on the condition that he will also be given the freedom to sign the players he wants with O'Neil not allowed to interfere.\\r\\nWith O'Neil accepting his requests, McGinty builds his team of different varying players that he believes can make a winning team. As his quarterback, McGinty chooses Shane Falco, a former All-American from Ohio State whose career went to pieces after a horrendous Sugar Bowl game, and now lives in a houseboat near the Sentinels' stadium. Falco initially refuses, but McGinty convinces him, believing that Falco can still be the player he was meant to be. The replacement players are greeted to their first practice hostilely by the striking players, calling the replacements \"scabs\", and throwing eggs at them, and Falco, who arrives late, gets his truck turned over. Head cheerleader Annabelle Ferrell, who has to find new cheerleaders since the originals apparently went on strike as well, reluctantly hires strippers when the other tryouts go terribly bad. After practice, Annabelle drives Falco home and surprises him with her vast football knowledge.\\r\\nThe replacements' first game is against Detroit, and the team initially struggles to get along, causing the Sentinels to fall behind early. Falco tries to rally the team back, but on the last play, he panics when he sees a pending blitz and calls an audible, which falls short of the winning touchdown. McGinty berates Falco for what he did, telling him that \"winners always want the ball when the game's on the line.\" At a local bar, several of the replacements lament over their loss, when several of the striking players, led by their prima donna quarterback Eddie Martel, arrive and taunt the replacements. When Falco stands up to Martel, a brawl follows, leading to the replacements being arrested, but they build a bond in the process, dancing together in their cell before McGinity bails them out. Annabelle meets Shane the next day, having heard what happened, and tells him that he's the first quarterback she's seen in a long time be so selfless, and a connection starts to grow with the two of them.\\r\\nIn the Sentinels' next game against San Diego, they fall behind again but are able to come together once again, and this time win, on a 65-yard field goal by their kicker, a Welsh soccer player named Nigel Gruff. Falco meets Annabelle again, where she runs a bar her father used to own and admits that she was raised with football. After sharing a short conversation and having a beer together, they consummate their feelings for one another, sharing a deep kiss. The Sentinels nearly lose their next game on the road against Phoenix, but win on a couple of improbable plays.\\r\\nWhen the Sentinels return to DC, O'Neil tells McGinty that Eddie Martel has crossed the picket line, and points out that the entire team of the league's defending champions, and the Sentinels' next opponent, Dallas, have crossed as well. O'Neil shows no confidence in Falco being able to beat Dallas, and hints to McGinity that he could be fired if McGinty refuses to start Martel. McGinty gives in and reluctantly tells Falco, who then tells his teammates the same thing, demoralizing the team. Falco is toasted by his teammates, but unable to face Annabelle after what happened, Falco leaves her stood up for their planned date.\\r\\nIn the first half of the final crucial game, Martel deliberately throws the game to humiliate the replacement players, and also smugly ignores any play calls McGinty makes, causing the Sentinels fall behind to Dallas 17–0. The hometown fans, who had initially despised the replacements, now boo Martel, having accepted Falco as their favorite. On the way to the locker room for halftime, McGinty tells a TV reporter that the team needs \"heart\" to come back and win, something he had earlier said Falco had. Falco, watching this on television, returns to the stadium, and McGinty promptly benches Martel for Falco. Martel angrily tells Falco that he will never be known as anything but a replacement player. Falco says he can live with that and the rest of the team throws Martel out of the stadium. On his way back to the field, Falco finds Annabelle and apologizes to her, giving her another deep kiss in front of the crowd and other cheerleaders.\\r\\nMcGinty tells the replacements that the strike will officially end the next day, giving the players incentive to give everything they have left. The Sentinels rally back to a 17-14 score, with Gruff being called to kick the game-tying field goal late in the game. However, Gruff spots bookies that he owes money to in the crowd, and realizes that they want him to throw the game or they'll take his pub from him as compensation. He hints this to Falco just before the kick, and Falco pulls the ball away, causing Gruff to fall from the momentum of his kicking motion and break his arm. Falco initially scores the apparent winning touchdown, but it's called back on a Sentinels penalty. With Gruff unable to continue, Falco tells McGinty that he \"wants the ball\", affirming what McGinty had told him before. Falco calls for a deep pass to the replacements' deaf tight end, Brian Murphy, and hits him with the game-winning touchdown pass as time expires, earning the Sentinels a playoff berth. Falco celebrates with Annabelle, while McGinty narrates that the replacement players left the field with nothing but the satisfaction and personal glory of what they've accomplished, which is living the athlete's dream of a \"second chance.\" He then watches the replacements dance on the field to the Gloria Gaynor song \"I Will Survive\".  "
      ]
     },
     "execution_count": 68,
     "metadata": {},
     "output_type": "execute_result"
    }
   ],
   "source": [
    "sent_topics_sorteddf_mallet.head(1)"
   ]
  },
  {
   "cell_type": "markdown",
   "metadata": {},
   "source": [
    "### Finding the dominant topic in each movie"
   ]
  },
  {
   "cell_type": "code",
   "execution_count": 81,
   "metadata": {},
   "outputs": [],
   "source": [
    "def format_topics_sentences(ldamodel, corpus, texts):\n",
    "    # Init output\n",
    "    sent_topics_df = pd.DataFrame()\n",
    "\n",
    "    # Get main topic in each document\n",
    "    for i, row in enumerate(ldamodel[corpus]):\n",
    "        row = sorted(row, key=lambda x: (x[1]), reverse=True)\n",
    "        # Get the Dominant topic, Perc Contribution and Keywords for each document\n",
    "        for j, (topic_num, prop_topic) in enumerate(row):\n",
    "            if j == 0:  # => dominant topic\n",
    "                wp = ldamodel.show_topic(topic_num)\n",
    "                topic_keywords = \", \".join([word for word, prop in wp])\n",
    "                sent_topics_df = sent_topics_df.append(pd.Series([int(topic_num), round(prop_topic,4), topic_keywords]), ignore_index=True)\n",
    "            else:\n",
    "                break\n",
    "    sent_topics_df.columns = ['Dominant_Topic', 'Perc_Contribution', 'Topic_Keywords']\n",
    "\n",
    "    # Add original text to the end of the output\n",
    "    contents = pd.Series(texts)\n",
    "    sent_topics_df = pd.concat([sent_topics_df, contents], axis=1)\n",
    "    return(sent_topics_df)\n",
    "\n",
    "\n",
    "df_topic_sents_keywords = format_topics_sentences(ldamodel=ldamallet, corpus=corpus, texts=data_lemmatized)\n",
    "\n",
    "# Format\n",
    "df_dominant_topic = df_topic_sents_keywords.reset_index()\n",
    "df_dominant_topic.columns = ['Document_No', 'Dominant_Topic', 'Topic_Perc_Contrib', 'Keywords', 'Text']\n",
    "df_dominant_topic = pd.concat([df_dominant_topic, input_movies], axis=1)"
   ]
  },
  {
   "cell_type": "code",
   "execution_count": 92,
   "metadata": {},
   "outputs": [],
   "source": [
    "# df_dominant_topic.tail(3)"
   ]
  },
  {
   "cell_type": "code",
   "execution_count": 70,
   "metadata": {},
   "outputs": [],
   "source": [
    "my_dic = {0: [0, 'comedy', 1], \\\n",
    "          1: [1, 'action', 0], \\\n",
    "          2: [2, 'romance', 3], \\\n",
    "          3: [3, 'musical', 4], \\\n",
    "          4: [4, 'drama', 2]\n",
    "         }\n",
    "mapping_label = pd.DataFrame.from_dict(my_dic, orient='index',columns=['Dominant_Topic', 'label_name', 'label_idx'])"
   ]
  },
  {
   "cell_type": "code",
   "execution_count": 85,
   "metadata": {},
   "outputs": [],
   "source": [
    "df = df_dominant_topic.merge(mapping_label, on='Dominant_Topic', how='left')[['ids','label_name', 'label_idx']]"
   ]
  },
  {
   "cell_type": "code",
   "execution_count": 91,
   "metadata": {},
   "outputs": [
    {
     "data": {
      "text/html": [
       "<div>\n",
       "<style scoped>\n",
       "    .dataframe tbody tr th:only-of-type {\n",
       "        vertical-align: middle;\n",
       "    }\n",
       "\n",
       "    .dataframe tbody tr th {\n",
       "        vertical-align: top;\n",
       "    }\n",
       "\n",
       "    .dataframe thead th {\n",
       "        text-align: right;\n",
       "    }\n",
       "</style>\n",
       "<table border=\"1\" class=\"dataframe\">\n",
       "  <thead>\n",
       "    <tr style=\"text-align: right;\">\n",
       "      <th></th>\n",
       "      <th>ids</th>\n",
       "      <th>label_name</th>\n",
       "      <th>label_idx</th>\n",
       "    </tr>\n",
       "  </thead>\n",
       "  <tbody>\n",
       "    <tr>\n",
       "      <th>0</th>\n",
       "      <td>doc_0</td>\n",
       "      <td>action</td>\n",
       "      <td>0</td>\n",
       "    </tr>\n",
       "    <tr>\n",
       "      <th>1</th>\n",
       "      <td>doc_1</td>\n",
       "      <td>musical</td>\n",
       "      <td>4</td>\n",
       "    </tr>\n",
       "    <tr>\n",
       "      <th>2</th>\n",
       "      <td>doc_2</td>\n",
       "      <td>drama</td>\n",
       "      <td>2</td>\n",
       "    </tr>\n",
       "  </tbody>\n",
       "</table>\n",
       "</div>"
      ],
      "text/plain": [
       "     ids label_name  label_idx\n",
       "0  doc_0  action     0        \n",
       "1  doc_1  musical    4        \n",
       "2  doc_2  drama      2        "
      ]
     },
     "execution_count": 91,
     "metadata": {},
     "output_type": "execute_result"
    }
   ],
   "source": [
    "df.head(3)"
   ]
  },
  {
   "cell_type": "code",
   "execution_count": 87,
   "metadata": {
    "scrolled": true
   },
   "outputs": [
    {
     "data": {
      "text/plain": [
       "romance    1744\n",
       "musical    1482\n",
       "comedy     1118\n",
       "drama      1101\n",
       "action     1058\n",
       "Name: label_name, dtype: int64"
      ]
     },
     "execution_count": 87,
     "metadata": {},
     "output_type": "execute_result"
    }
   ],
   "source": [
    "df['label_name'].value_counts()"
   ]
  },
  {
   "cell_type": "code",
   "execution_count": 90,
   "metadata": {},
   "outputs": [
    {
     "data": {
      "text/plain": [
       "(6503, 3)"
      ]
     },
     "execution_count": 90,
     "metadata": {},
     "output_type": "execute_result"
    }
   ],
   "source": [
    "df.shape"
   ]
  },
  {
   "cell_type": "code",
   "execution_count": 89,
   "metadata": {},
   "outputs": [],
   "source": [
    "df.to_csv('liawany_vanessa_liao_results.csv', index=False)"
   ]
  },
  {
   "cell_type": "code",
   "execution_count": null,
   "metadata": {},
   "outputs": [],
   "source": []
  },
  {
   "cell_type": "code",
   "execution_count": null,
   "metadata": {},
   "outputs": [],
   "source": []
  },
  {
   "cell_type": "code",
   "execution_count": null,
   "metadata": {},
   "outputs": [],
   "source": []
  }
 ],
 "metadata": {
  "kernelspec": {
   "display_name": "Python 3",
   "language": "python",
   "name": "python3"
  },
  "language_info": {
   "codemirror_mode": {
    "name": "ipython",
    "version": 3
   },
   "file_extension": ".py",
   "mimetype": "text/x-python",
   "name": "python",
   "nbconvert_exporter": "python",
   "pygments_lexer": "ipython3",
   "version": "3.7.2"
  }
 },
 "nbformat": 4,
 "nbformat_minor": 2
}
